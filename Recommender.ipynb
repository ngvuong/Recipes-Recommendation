{
 "cells": [
  {
   "cell_type": "code",
   "execution_count": 2,
   "metadata": {},
   "outputs": [],
   "source": [
    "import pandas as pd\n",
    "import re\n",
    "import matplotlib.pyplot as plt\n",
    "import numpy as np\n",
    "import pickle\n",
    "import json\n",
    "import nltk\n",
    "\n",
    "from sklearn.feature_extraction.text import TfidfVectorizer\n",
    "from sklearn.feature_extraction.text import CountVectorizer\n",
    "from sklearn.metrics.pairwise import cosine_similarity\n",
    "from sklearn.metrics.pairwise import pairwise_kernels\n",
    "from unidecode import unidecode"
   ]
  },
  {
   "cell_type": "code",
   "execution_count": 3,
   "metadata": {},
   "outputs": [],
   "source": [
    "recipes = pd.read_pickle('recipes.pkl')\n",
    "\n",
    "recipes_mod = pd.read_pickle('recipes_mod.pkl')"
   ]
  },
  {
   "cell_type": "code",
   "execution_count": 247,
   "metadata": {},
   "outputs": [
    {
     "name": "stdout",
     "output_type": "stream",
     "text": [
      "<class 'pandas.core.frame.DataFrame'>\n",
      "RangeIndex: 18277 entries, 0 to 18276\n",
      "Data columns (total 12 columns):\n",
      "calories       18277 non-null int64\n",
      "carb           18277 non-null int64\n",
      "categories     18277 non-null object\n",
      "date           18277 non-null datetime64[ns]\n",
      "desc           13655 non-null object\n",
      "directions     18277 non-null object\n",
      "fat            18277 non-null int64\n",
      "ingredients    18277 non-null object\n",
      "protein        18277 non-null int64\n",
      "rating         18277 non-null float64\n",
      "sodium         18277 non-null int64\n",
      "title          18277 non-null object\n",
      "dtypes: datetime64[ns](1), float64(1), int64(5), object(5)\n",
      "memory usage: 1.7+ MB\n"
     ]
    }
   ],
   "source": [
    "recipes.info()"
   ]
  },
  {
   "cell_type": "code",
   "execution_count": 4,
   "metadata": {},
   "outputs": [
    {
     "name": "stdout",
     "output_type": "stream",
     "text": [
      "<class 'pandas.core.frame.DataFrame'>\n",
      "RangeIndex: 18277 entries, 0 to 18276\n",
      "Data columns (total 18 columns):\n",
      "calories          18277 non-null int64\n",
      "carb              18277 non-null int64\n",
      "categories        18277 non-null object\n",
      "date              18277 non-null datetime64[ns]\n",
      "desc              18277 non-null object\n",
      "directions        18277 non-null object\n",
      "fat               18277 non-null int64\n",
      "ingredients       18277 non-null object\n",
      "protein           18277 non-null int64\n",
      "rating            18277 non-null float64\n",
      "sodium            18277 non-null int64\n",
      "title             18277 non-null object\n",
      "desc_mod          18277 non-null object\n",
      "desc_mod_clean    18277 non-null object\n",
      "dir_clean         18277 non-null object\n",
      "ingr_clean        18277 non-null object\n",
      "cat_clean         18277 non-null object\n",
      "all_text          18277 non-null object\n",
      "dtypes: datetime64[ns](1), float64(1), int64(5), object(11)\n",
      "memory usage: 2.5+ MB\n"
     ]
    }
   ],
   "source": [
    "recipes_mod.info()"
   ]
  },
  {
   "cell_type": "code",
   "execution_count": 5,
   "metadata": {},
   "outputs": [
    {
     "data": {
      "text/html": [
       "<div>\n",
       "<style scoped>\n",
       "    .dataframe tbody tr th:only-of-type {\n",
       "        vertical-align: middle;\n",
       "    }\n",
       "\n",
       "    .dataframe tbody tr th {\n",
       "        vertical-align: top;\n",
       "    }\n",
       "\n",
       "    .dataframe thead th {\n",
       "        text-align: right;\n",
       "    }\n",
       "</style>\n",
       "<table border=\"1\" class=\"dataframe\">\n",
       "  <thead>\n",
       "    <tr style=\"text-align: right;\">\n",
       "      <th></th>\n",
       "      <th>calories</th>\n",
       "      <th>carb</th>\n",
       "      <th>categories</th>\n",
       "      <th>date</th>\n",
       "      <th>desc</th>\n",
       "      <th>directions</th>\n",
       "      <th>fat</th>\n",
       "      <th>ingredients</th>\n",
       "      <th>protein</th>\n",
       "      <th>rating</th>\n",
       "      <th>sodium</th>\n",
       "      <th>title</th>\n",
       "      <th>desc_mod</th>\n",
       "      <th>desc_mod_clean</th>\n",
       "      <th>dir_clean</th>\n",
       "      <th>ingr_clean</th>\n",
       "      <th>cat_clean</th>\n",
       "      <th>all_text</th>\n",
       "    </tr>\n",
       "  </thead>\n",
       "  <tbody>\n",
       "    <tr>\n",
       "      <th>0</th>\n",
       "      <td>426</td>\n",
       "      <td>77</td>\n",
       "      <td>[Sandwich, Bean, Fruit, Tomato, turkey, Vegeta...</td>\n",
       "      <td>2006-09-01 04:00:00</td>\n",
       "      <td></td>\n",
       "      <td>[1. Place the stock, lentils, celery, carrot, ...</td>\n",
       "      <td>7</td>\n",
       "      <td>[4 cups low-sodium vegetable or chicken stock,...</td>\n",
       "      <td>30</td>\n",
       "      <td>2.500</td>\n",
       "      <td>559</td>\n",
       "      <td>Lentil, Apple, and Turkey Wrap</td>\n",
       "      <td>Lentil, Apple, and Turkey Wrap</td>\n",
       "      <td>lentil*apple*turkey*wrap</td>\n",
       "      <td>[place*stock*lentils*celery*carrot*thyme*salt*...</td>\n",
       "      <td>[4 cup*low-sodium*vegetable*chicken*stock, 1 c...</td>\n",
       "      <td>[sandwich, bean, fruit, tomato, turkey, vegeta...</td>\n",
       "      <td>lentil*apple*turkey*wrap*sandwich*bean*fruit*t...</td>\n",
       "    </tr>\n",
       "    <tr>\n",
       "      <th>1</th>\n",
       "      <td>403</td>\n",
       "      <td>34</td>\n",
       "      <td>[Food Processor, Onion, Pork, Bake, Bastille D...</td>\n",
       "      <td>2004-08-20 04:00:00</td>\n",
       "      <td>This uses the same ingredients found in boudin...</td>\n",
       "      <td>[Combine first 9 ingredients in heavy medium s...</td>\n",
       "      <td>23</td>\n",
       "      <td>[1 1/2 cups whipping cream, 2 medium onions, c...</td>\n",
       "      <td>18</td>\n",
       "      <td>4.375</td>\n",
       "      <td>1439</td>\n",
       "      <td>Boudin Blanc Terrine with Red Onion Confit</td>\n",
       "      <td>Boudin Blanc Terrine with Red Onion Confit Thi...</td>\n",
       "      <td>boudin*blanc*terrine*red*onion*confit*boudin*b...</td>\n",
       "      <td>[combine*9 ingredient*heavy*medium*saucepan*ad...</td>\n",
       "      <td>[1 1/2 cup*whipping*cream, 2 medium*onions*cho...</td>\n",
       "      <td>[food processor, onion, pork, bake, bastille d...</td>\n",
       "      <td>boudin*blanc*terrine*red*onion*confit*boudin*b...</td>\n",
       "    </tr>\n",
       "    <tr>\n",
       "      <th>2</th>\n",
       "      <td>357</td>\n",
       "      <td>92</td>\n",
       "      <td>[Candy, Citrus, Quick &amp; Easy, Low Sodium, Grap...</td>\n",
       "      <td>2004-08-20 12:48:48</td>\n",
       "      <td></td>\n",
       "      <td>[Quarter the grapefruits lengthwise and remove...</td>\n",
       "      <td>0</td>\n",
       "      <td>[3 large grapefruits, 13 cups cold water, 4 cu...</td>\n",
       "      <td>1</td>\n",
       "      <td>5.000</td>\n",
       "      <td>17</td>\n",
       "      <td>Candied Grapefruit Zest</td>\n",
       "      <td>Candied Grapefruit Zest</td>\n",
       "      <td>candied*grapefruit*zest</td>\n",
       "      <td>[quarter*grapefruit*lengthwise*remove*pulp*res...</td>\n",
       "      <td>[3 large*grapefruit, 13 cup*cold*water, 4 cup*...</td>\n",
       "      <td>[candy, citrus, quick &amp; easy, low sodium, grap...</td>\n",
       "      <td>candied*grapefruit*zest*candy*citrus*quick &amp; e...</td>\n",
       "    </tr>\n",
       "    <tr>\n",
       "      <th>3</th>\n",
       "      <td>691</td>\n",
       "      <td>21</td>\n",
       "      <td>[Leafy Green, Shellfish, Marinate, Sauté, High...</td>\n",
       "      <td>2004-08-20 04:00:00</td>\n",
       "      <td>When Roy Yamaguchi invited me to cook at the 5...</td>\n",
       "      <td>[Preheat oven to 350°F., Dip each crab in milk...</td>\n",
       "      <td>41</td>\n",
       "      <td>[8 soft shell crabs, cleaned (See note), 1 cup...</td>\n",
       "      <td>57</td>\n",
       "      <td>3.750</td>\n",
       "      <td>1533</td>\n",
       "      <td>Soft-Shell Crabs with Wilted Spinach and Warm ...</td>\n",
       "      <td>Soft-Shell Crabs with Wilted Spinach and Warm ...</td>\n",
       "      <td>soft-shell*crab*wilted*spinach*warm*tomato-bas...</td>\n",
       "      <td>[preheat*oven*degf, dip*crab*milk*lightly*coat...</td>\n",
       "      <td>[8 soft*shell*crabs*cleaned*note, 1 cup*milk, ...</td>\n",
       "      <td>[leafy green, shellfish, marinate, saute, high...</td>\n",
       "      <td>soft-shell*crab*wilted*spinach*warm*tomato-bas...</td>\n",
       "    </tr>\n",
       "    <tr>\n",
       "      <th>4</th>\n",
       "      <td>181</td>\n",
       "      <td>39</td>\n",
       "      <td>[Sauce, Fruit, Ginger, Dessert, Low Sodium, Wh...</td>\n",
       "      <td>2004-08-20 04:00:00</td>\n",
       "      <td>A simple dessert sauce that is absolutely deli...</td>\n",
       "      <td>[Combine Sauternes, sugar, water and whole clo...</td>\n",
       "      <td>1</td>\n",
       "      <td>[1/2 cup plus 2 tablespoons Sauternes or Late ...</td>\n",
       "      <td>1</td>\n",
       "      <td>5.000</td>\n",
       "      <td>11</td>\n",
       "      <td>Kumquat Compote with Sauternes and Ginger</td>\n",
       "      <td>Kumquat Compote with Sauternes and Ginger A si...</td>\n",
       "      <td>kumquat*compote*sauterne*ginger*simple*dessert...</td>\n",
       "      <td>[combine*sauternes*sugar*water*whole*clove*hea...</td>\n",
       "      <td>[1/2 cup*plus*2 tablespoon*sauterne*late*harve...</td>\n",
       "      <td>[sauce, fruit, ginger, dessert, low sodium, wh...</td>\n",
       "      <td>kumquat*compote*sauterne*ginger*simple*dessert...</td>\n",
       "    </tr>\n",
       "  </tbody>\n",
       "</table>\n",
       "</div>"
      ],
      "text/plain": [
       "   calories  carb                                         categories  \\\n",
       "0       426    77  [Sandwich, Bean, Fruit, Tomato, turkey, Vegeta...   \n",
       "1       403    34  [Food Processor, Onion, Pork, Bake, Bastille D...   \n",
       "2       357    92  [Candy, Citrus, Quick & Easy, Low Sodium, Grap...   \n",
       "3       691    21  [Leafy Green, Shellfish, Marinate, Sauté, High...   \n",
       "4       181    39  [Sauce, Fruit, Ginger, Dessert, Low Sodium, Wh...   \n",
       "\n",
       "                 date                                               desc  \\\n",
       "0 2006-09-01 04:00:00                                                      \n",
       "1 2004-08-20 04:00:00  This uses the same ingredients found in boudin...   \n",
       "2 2004-08-20 12:48:48                                                      \n",
       "3 2004-08-20 04:00:00  When Roy Yamaguchi invited me to cook at the 5...   \n",
       "4 2004-08-20 04:00:00  A simple dessert sauce that is absolutely deli...   \n",
       "\n",
       "                                          directions  fat  \\\n",
       "0  [1. Place the stock, lentils, celery, carrot, ...    7   \n",
       "1  [Combine first 9 ingredients in heavy medium s...   23   \n",
       "2  [Quarter the grapefruits lengthwise and remove...    0   \n",
       "3  [Preheat oven to 350°F., Dip each crab in milk...   41   \n",
       "4  [Combine Sauternes, sugar, water and whole clo...    1   \n",
       "\n",
       "                                         ingredients  protein  rating  sodium  \\\n",
       "0  [4 cups low-sodium vegetable or chicken stock,...       30   2.500     559   \n",
       "1  [1 1/2 cups whipping cream, 2 medium onions, c...       18   4.375    1439   \n",
       "2  [3 large grapefruits, 13 cups cold water, 4 cu...        1   5.000      17   \n",
       "3  [8 soft shell crabs, cleaned (See note), 1 cup...       57   3.750    1533   \n",
       "4  [1/2 cup plus 2 tablespoons Sauternes or Late ...        1   5.000      11   \n",
       "\n",
       "                                               title  \\\n",
       "0                     Lentil, Apple, and Turkey Wrap   \n",
       "1         Boudin Blanc Terrine with Red Onion Confit   \n",
       "2                            Candied Grapefruit Zest   \n",
       "3  Soft-Shell Crabs with Wilted Spinach and Warm ...   \n",
       "4          Kumquat Compote with Sauternes and Ginger   \n",
       "\n",
       "                                            desc_mod  \\\n",
       "0                     Lentil, Apple, and Turkey Wrap   \n",
       "1  Boudin Blanc Terrine with Red Onion Confit Thi...   \n",
       "2                            Candied Grapefruit Zest   \n",
       "3  Soft-Shell Crabs with Wilted Spinach and Warm ...   \n",
       "4  Kumquat Compote with Sauternes and Ginger A si...   \n",
       "\n",
       "                                      desc_mod_clean  \\\n",
       "0                           lentil*apple*turkey*wrap   \n",
       "1  boudin*blanc*terrine*red*onion*confit*boudin*b...   \n",
       "2                            candied*grapefruit*zest   \n",
       "3  soft-shell*crab*wilted*spinach*warm*tomato-bas...   \n",
       "4  kumquat*compote*sauterne*ginger*simple*dessert...   \n",
       "\n",
       "                                           dir_clean  \\\n",
       "0  [place*stock*lentils*celery*carrot*thyme*salt*...   \n",
       "1  [combine*9 ingredient*heavy*medium*saucepan*ad...   \n",
       "2  [quarter*grapefruit*lengthwise*remove*pulp*res...   \n",
       "3  [preheat*oven*degf, dip*crab*milk*lightly*coat...   \n",
       "4  [combine*sauternes*sugar*water*whole*clove*hea...   \n",
       "\n",
       "                                          ingr_clean  \\\n",
       "0  [4 cup*low-sodium*vegetable*chicken*stock, 1 c...   \n",
       "1  [1 1/2 cup*whipping*cream, 2 medium*onions*cho...   \n",
       "2  [3 large*grapefruit, 13 cup*cold*water, 4 cup*...   \n",
       "3  [8 soft*shell*crabs*cleaned*note, 1 cup*milk, ...   \n",
       "4  [1/2 cup*plus*2 tablespoon*sauterne*late*harve...   \n",
       "\n",
       "                                           cat_clean  \\\n",
       "0  [sandwich, bean, fruit, tomato, turkey, vegeta...   \n",
       "1  [food processor, onion, pork, bake, bastille d...   \n",
       "2  [candy, citrus, quick & easy, low sodium, grap...   \n",
       "3  [leafy green, shellfish, marinate, saute, high...   \n",
       "4  [sauce, fruit, ginger, dessert, low sodium, wh...   \n",
       "\n",
       "                                            all_text  \n",
       "0  lentil*apple*turkey*wrap*sandwich*bean*fruit*t...  \n",
       "1  boudin*blanc*terrine*red*onion*confit*boudin*b...  \n",
       "2  candied*grapefruit*zest*candy*citrus*quick & e...  \n",
       "3  soft-shell*crab*wilted*spinach*warm*tomato-bas...  \n",
       "4  kumquat*compote*sauterne*ginger*simple*dessert...  "
      ]
     },
     "execution_count": 5,
     "metadata": {},
     "output_type": "execute_result"
    }
   ],
   "source": [
    "recipes_mod.head()"
   ]
  },
  {
   "cell_type": "code",
   "execution_count": null,
   "metadata": {},
   "outputs": [],
   "source": []
  },
  {
   "cell_type": "code",
   "execution_count": null,
   "metadata": {},
   "outputs": [],
   "source": []
  },
  {
   "cell_type": "code",
   "execution_count": 5,
   "metadata": {},
   "outputs": [],
   "source": [
    "descriptions = recipes.loc[~recipes.desc.isnull()]"
   ]
  },
  {
   "cell_type": "code",
   "execution_count": null,
   "metadata": {},
   "outputs": [],
   "source": []
  },
  {
   "cell_type": "code",
   "execution_count": 3,
   "metadata": {},
   "outputs": [],
   "source": [
    "tok_pat = re.compile(r'[^\\d\\W][\\w-]+|\\d+.*?(?:(?=[.;:]\\s|,\\s[^\\d\\W])|\\s[^\\d\\W]+)')"
   ]
  },
  {
   "cell_type": "code",
   "execution_count": 6,
   "metadata": {},
   "outputs": [],
   "source": [
    "def calc_cos_sims(text_corp, vect_type = TfidfVectorizer , **kwargs):\n",
    "    \n",
    "    vect = vect_type(**kwargs)\n",
    "    mat = vect.fit_transform(text_corp)\n",
    "    cos_sims = cosine_similarity(mat, mat)\n",
    "    np.fill_diagonal(cos_sims, 0)\n",
    "    \n",
    "    return cos_sims\n",
    "\n",
    "\n",
    "def calc_jacc_sims(text_corp, **kwargs):\n",
    "    \n",
    "    vect = CountVectorizer(binary=True, **kwargs)\n",
    "    mat = vect.fit_transform(text_corp).toarray()\n",
    "    \n",
    "    js = lambda v1, v2: (v1 * v2).sum() / (v1.sum() + v2.sum() - (v1 * v2).sum())\n",
    "    jacc_sims = pairwise_kernels(mat, metric=js)\n",
    "    \n",
    "    return jacc_sims\n",
    "\n",
    "\n",
    "def recommend(recipe, sim_mat, n_recs=20):\n",
    "    \n",
    "    ind = recipes_mod[recipes_mod.title == recipe].index[0]\n",
    "    \n",
    "    top_sims = pd.Series(sim_mat[ind]).sort_values(ascending=False)\n",
    "    \n",
    "    recommendations = []\n",
    "    for i in list(top_sims[:n_recs].index):\n",
    "        recommendations.append(recipes_mod.title[i])\n",
    "        \n",
    "    return recommendations, top_sims[:n_recs], top_sims[:n_recs].index"
   ]
  },
  {
   "cell_type": "code",
   "execution_count": null,
   "metadata": {},
   "outputs": [],
   "source": [
    "# cs_old_desc = calc_sims(recipes_mod.desc)\n",
    "recommend('Spinach Ricotta Gnocchi with Tomato Sauce', cs_old_desc, 20)"
   ]
  },
  {
   "cell_type": "code",
   "execution_count": null,
   "metadata": {},
   "outputs": [],
   "source": [
    "# recipes.loc[recipes.title == 'Spinach Ricotta Gnocchi with Tomato Sauce']\n",
    "recipes_mod.loc[18174].desc"
   ]
  },
  {
   "cell_type": "code",
   "execution_count": null,
   "metadata": {},
   "outputs": [],
   "source": [
    "recipes_mod.loc[14542].desc"
   ]
  },
  {
   "cell_type": "code",
   "execution_count": null,
   "metadata": {},
   "outputs": [],
   "source": [
    "# Recommend using cleaned descriptions + title\n",
    "\n",
    "# cs_clean_desc = calc_sims(recipes_mod.desc_mod_clean) \n",
    "\n",
    "recommend('Spinach Ricotta Gnocchi with Tomato Sauce', cs_clean_desc, 20)"
   ]
  },
  {
   "cell_type": "code",
   "execution_count": null,
   "metadata": {},
   "outputs": [],
   "source": [
    "# cs_clean_desc_n = calc_sims(recipes_mod.desc_mod_clean, token_pattern=tok_pat)\n",
    "\n",
    "recommend('Spinach Ricotta Gnocchi with Tomato Sauce', cs_clean_desc_n)"
   ]
  },
  {
   "cell_type": "code",
   "execution_count": 117,
   "metadata": {},
   "outputs": [
    {
     "data": {
      "text/plain": [
       "4995    spinach herb sauce prepared 45 minute\n",
       "Name: desc_mod_clean, dtype: object"
      ]
     },
     "execution_count": 117,
     "metadata": {},
     "output_type": "execute_result"
    }
   ],
   "source": [
    "recipes_mod.loc[recipes_mod.title == 'Spinach Herb Sauce', 'desc_mod_clean']"
   ]
  },
  {
   "cell_type": "code",
   "execution_count": 121,
   "metadata": {},
   "outputs": [
    {
     "data": {
      "text/plain": [
       "'spinach ricotta gnocchi tomato sauce prepared 45 minute'"
      ]
     },
     "execution_count": 121,
     "metadata": {},
     "output_type": "execute_result"
    }
   ],
   "source": [
    "recipes_mod.desc_mod_clean[18174]\n"
   ]
  },
  {
   "cell_type": "code",
   "execution_count": 120,
   "metadata": {},
   "outputs": [
    {
     "data": {
      "text/plain": [
       "'spinach herb sauce prepared 45 minute'"
      ]
     },
     "execution_count": 120,
     "metadata": {},
     "output_type": "execute_result"
    }
   ],
   "source": [
    "recipes_mod.desc_mod_clean[4995]"
   ]
  },
  {
   "cell_type": "code",
   "execution_count": 116,
   "metadata": {},
   "outputs": [
    {
     "data": {
      "text/plain": [
       "([\"Cheat's Ricotta Gnocchi Dough\",\n",
       "  'Mexican-Style Tomato Sauce',\n",
       "  'Spaghetti with Eggplant and Tomato Sauce',\n",
       "  'Spinach Herb Sauce',\n",
       "  'Spiced Cranberry Sauce',\n",
       "  'Scallop Quenelles with Gingered Tomato Sauce',\n",
       "  'Chocolate Coconut Sauce',\n",
       "  'Gratineed Gnocchi with Spinach and Ricotta',\n",
       "  'Spicy Cilantro Sauce',\n",
       "  'Cranberry Raspberry Sauce',\n",
       "  'Coconut Caramel Sauce',\n",
       "  'Ginger Custard Sauce',\n",
       "  'Jalapeño Garlic Sauce',\n",
       "  'Apricot Caramel Sauce',\n",
       "  'Sambuca Chocolate Sauce',\n",
       "  'Chicken and Dumplings',\n",
       "  'Mustard Watercress Sauce',\n",
       "  'Rotelle with Mushroom Sauce',\n",
       "  'Spicy Tomato Sauce',\n",
       "  'Lemon-Pepper Dill Sauce'],\n",
       " 17555    0.373182\n",
       " 8520     0.342779\n",
       " 7544     0.327798\n",
       " 4995     0.307823\n",
       " 7481     0.261232\n",
       " 16706    0.256433\n",
       " 16704    0.253060\n",
       " 16731    0.250637\n",
       " 6484     0.249570\n",
       " 6365     0.245382\n",
       " 17088    0.245082\n",
       " 17487    0.243501\n",
       " 14922    0.243001\n",
       " 6559     0.242028\n",
       " 8105     0.230292\n",
       " 15892    0.227199\n",
       " 6477     0.226597\n",
       " 7059     0.224506\n",
       " 353      0.223799\n",
       " 11615    0.217303\n",
       " dtype: float64,\n",
       " Int64Index([17555,  8520,  7544,  4995,  7481, 16706, 16704, 16731,  6484,\n",
       "              6365, 17088, 17487, 14922,  6559,  8105, 15892,  6477,  7059,\n",
       "               353, 11615],\n",
       "            dtype='int64'))"
      ]
     },
     "execution_count": 116,
     "metadata": {},
     "output_type": "execute_result"
    }
   ],
   "source": [
    "# Including bigrams\n",
    "\n",
    "# cs_clean_desc_bg = calc_sims(recipes_mod.desc_mod_clean, token_pattern=tok_pat, ngram_range=(1,2))\n",
    "recommend('Spinach Ricotta Gnocchi with Tomato Sauce', cs_clean_desc_bg)"
   ]
  },
  {
   "cell_type": "code",
   "execution_count": 233,
   "metadata": {},
   "outputs": [],
   "source": [
    "# Using ngram_range of (1,2) seems to have yielded more recipes with 'Sauce' keyword, perhaps suggesting\n",
    "# that sauces recipes are relatively uncommon (IDF upweighs 'Sauce')\n",
    "\n",
    "recipes_mod.loc[recipes_mod.desc_mod.str.lower().str.contains('\\*')].index\n",
    "\n",
    "# tok_pat\n",
    "# tp = re.compile('[^\\d\\W][\\w-]+|\\d+.*?(?:\\s[^\\d\\W]+|(?=\\.\\s))')\n",
    "# # tp.findall()\n",
    "tp = re.compile(r'[^\\d\\W][\\w-]+|\\d+.*?(?:(?=[.;:]\\s|,\\s[^\\d\\W])|\\s[^\\d\\W]+)')\n",
    "# ([i for e in recipes_mod.directions for i in e if re.search('\\d+:',i)])\n",
    "# tp.findall('red 1 hour remove lid add 10 more briquette grill turkey 1 hour insert meat thermometer fleshy thigh thermometer register 180deg:f juice run clear')"
   ]
  },
  {
   "cell_type": "code",
   "execution_count": 244,
   "metadata": {},
   "outputs": [],
   "source": [
    "# (re.search('\\d+:','2 (4\") coeur à la crème molds; 4: cheesecloth'))\n"
   ]
  },
  {
   "cell_type": "code",
   "execution_count": 167,
   "metadata": {},
   "outputs": [
    {
     "data": {
      "text/plain": [
       "['place stock lentils celery carrot thyme salt medium saucepan bring boil reduce heat low simmer lentil tender 30 minutes depending lentils begin dry add water needed remove discard thyme drain transfer mixture bowl let cool',\n",
       " 'fold tomato apple lemon juice olive oil season pepper',\n",
       " 'assemble wrap place 1 lavash sheet clean work surface spread lentil mixture end nearest leaving 1-inch border slice turkey lettuce roll lavash slice crosswise serve using tortillas spread lentil center turkey lettuce fold left right rolling away']"
      ]
     },
     "execution_count": 167,
     "metadata": {},
     "output_type": "execute_result"
    }
   ],
   "source": [
    "# recipes_mod.directions[]\n",
    "recipes_mod.dir_clean[0]"
   ]
  },
  {
   "cell_type": "code",
   "execution_count": 131,
   "metadata": {},
   "outputs": [
    {
     "data": {
      "text/plain": [
       "['Put oven rack in middle position and preheat oven to 375°F. Lightly oil a large shallow baking pan with vegetable oil.',\n",
       " 'Arrange rhubarb in 1 layer in pan and sift confectioners sugar evenly over top. Bake, stirring occasionally, until rhubarb is very tender, 25 to 30 minutes.',\n",
       " 'Transfer rhubarb to a food processor and purée until smooth. Force through a medium-mesh sieve into a bowl, discarding solids, and cool completely.']"
      ]
     },
     "execution_count": 131,
     "metadata": {},
     "output_type": "execute_result"
    }
   ],
   "source": [
    "recipes_mod.directions[654]"
   ]
  },
  {
   "cell_type": "code",
   "execution_count": 256,
   "metadata": {},
   "outputs": [],
   "source": [
    "# tp.findall(recipes_mod.ingredients[2673])"
   ]
  },
  {
   "cell_type": "code",
   "execution_count": 28,
   "metadata": {},
   "outputs": [
    {
     "name": "stdout",
     "output_type": "stream",
     "text": [
      "3.55 ms ± 564 µs per loop (mean ± std. dev. of 7 runs, 100 loops each)\n"
     ]
    }
   ],
   "source": [
    "%timeit calc_jacc_sims(recipes_mod.cat_clean.loc[:10], tokenizer = lambda x:x, lowercase=False)"
   ]
  },
  {
   "cell_type": "code",
   "execution_count": 49,
   "metadata": {},
   "outputs": [
    {
     "name": "stdout",
     "output_type": "stream",
     "text": [
      "4.32 ms ± 510 µs per loop (mean ± std. dev. of 7 runs, 100 loops each)\n"
     ]
    }
   ],
   "source": [
    "# cs = calc_cos_sims(recipes_mod.cat_clean,tokenizer = lambda x:x,lowercase=False)\n",
    "%timeit calc_cos_sims(recipes_mod.cat_clean.loc[:100],tokenizer = lambda x:x,lowercase=False)"
   ]
  },
  {
   "cell_type": "code",
   "execution_count": 27,
   "metadata": {},
   "outputs": [
    {
     "name": "stdout",
     "output_type": "stream",
     "text": [
      "116 ms ± 4.95 ms per loop (mean ± std. dev. of 7 runs, 10 loops each)\n"
     ]
    }
   ],
   "source": [
    "%timeit calc_jacc_sims(recipes_mod.cat_clean.loc[:100], tokenizer = lambda x:x, lowercase=False)\n",
    "# calc_jacc_sims(recipes_mod.cat_clean.loc[1], tokenizer = lambda x:x, lowercase=False)"
   ]
  },
  {
   "cell_type": "code",
   "execution_count": 73,
   "metadata": {},
   "outputs": [
    {
     "name": "stdout",
     "output_type": "stream",
     "text": [
      "7.6 s ± 68.4 ms per loop (mean ± std. dev. of 7 runs, 1 loop each)\n"
     ]
    }
   ],
   "source": [
    "%timeit calc_jacc_sims(recipes_mod.cat_clean.loc[:1000], tokenizer = lambda x:x, lowercase=False)"
   ]
  },
  {
   "cell_type": "code",
   "execution_count": 29,
   "metadata": {},
   "outputs": [],
   "source": [
    "# js=calc_jacc_sims(recipes_mod.cat_clean, tokenizer = lambda x:x, lowercase=False)"
   ]
  },
  {
   "cell_type": "code",
   "execution_count": 98,
   "metadata": {},
   "outputs": [
    {
     "data": {
      "text/plain": [
       "array([[1.        , 0.        , 0.        , ..., 0.03125   , 0.        ,\n",
       "        0.03448276],\n",
       "       [0.        , 1.        , 0.05555556, ..., 0.        , 0.        ,\n",
       "        0.        ],\n",
       "       [0.        , 0.05555556, 1.        , ..., 0.07142857, 0.15384615,\n",
       "        0.08      ],\n",
       "       ...,\n",
       "       [0.03125   , 0.        , 0.07142857, ..., 1.        , 0.20833333,\n",
       "        0.4137931 ],\n",
       "       [0.        , 0.        , 0.15384615, ..., 0.20833333, 1.        ,\n",
       "        0.18181818],\n",
       "       [0.03448276, 0.        , 0.08      , ..., 0.4137931 , 0.18181818,\n",
       "        1.        ]])"
      ]
     },
     "execution_count": 98,
     "metadata": {},
     "output_type": "execute_result"
    }
   ],
   "source": [
    "# 7600/116\n",
    "# (7600*130*2)/1000/60\n",
    "calc_jacc_sims(recipes_mod.cat_clean.loc[:100], tokenizer = lambda x:x, lowercase=False)"
   ]
  },
  {
   "cell_type": "code",
   "execution_count": null,
   "metadata": {},
   "outputs": [],
   "source": [
    "# from sklearn.metrics import pairwise_distances as pwd\n",
    "\n",
    "\n",
    "# vect = CountVectorizer(token_pattern=tok_pat)\n",
    "# mat = vect.fit_transform(recipes_mod.desc_mod_clean)\n",
    "# mat = np.array([[0,0,1],[0,0,1], [1,1,0]])\n"
   ]
  },
  {
   "cell_type": "code",
   "execution_count": 101,
   "metadata": {},
   "outputs": [
    {
     "data": {
      "text/plain": [
       "array([[0, 0, 0, ..., 0, 0, 0],\n",
       "       [0, 0, 0, ..., 0, 0, 0],\n",
       "       [0, 0, 0, ..., 0, 0, 0],\n",
       "       ...,\n",
       "       [0, 0, 0, ..., 0, 0, 0],\n",
       "       [0, 0, 0, ..., 0, 0, 0],\n",
       "       [0, 0, 0, ..., 0, 0, 0]], dtype=int64)"
      ]
     },
     "execution_count": 101,
     "metadata": {},
     "output_type": "execute_result"
    }
   ],
   "source": [
    "vect = CountVectorizer(lowercase=False, tokenizer=lambda x: x)\n",
    "mat = vect.fit_transform(recipes_mod.cat_clean.loc[:100])\n",
    "mat = mat.toarray()"
   ]
  },
  {
   "cell_type": "code",
   "execution_count": null,
   "metadata": {},
   "outputs": [],
   "source": [
    "%timeit (mat.toarray()[0] * mat.toarray()[1]).sum()"
   ]
  },
  {
   "cell_type": "code",
   "execution_count": 102,
   "metadata": {},
   "outputs": [
    {
     "name": "stdout",
     "output_type": "stream",
     "text": [
      "3.6 ms ± 154 µs per loop (mean ± std. dev. of 7 runs, 100 loops each)\n"
     ]
    }
   ],
   "source": [
    "from sklearn.metrics import jaccard_score\n",
    "from sklearn.metrics import pairwise_distances\n",
    "%timeit 1 - pairwise_distances(np.array(mat,dtype=bool),metric='jaccard')"
   ]
  },
  {
   "cell_type": "code",
   "execution_count": 103,
   "metadata": {},
   "outputs": [
    {
     "data": {
      "text/plain": [
       "array([[1.        , 0.        , 0.        , ..., 0.03125   , 0.        ,\n",
       "        0.03448276],\n",
       "       [0.        , 1.        , 0.05555556, ..., 0.        , 0.        ,\n",
       "        0.        ],\n",
       "       [0.        , 0.05555556, 1.        , ..., 0.07142857, 0.15384615,\n",
       "        0.08      ],\n",
       "       ...,\n",
       "       [0.03125   , 0.        , 0.07142857, ..., 1.        , 0.20833333,\n",
       "        0.4137931 ],\n",
       "       [0.        , 0.        , 0.15384615, ..., 0.20833333, 1.        ,\n",
       "        0.18181818],\n",
       "       [0.03448276, 0.        , 0.08      , ..., 0.4137931 , 0.18181818,\n",
       "        1.        ]])"
      ]
     },
     "execution_count": 103,
     "metadata": {},
     "output_type": "execute_result"
    }
   ],
   "source": [
    "1 - pairwise_distances(np.array(mat,dtype=bool),metric='jaccard')"
   ]
  },
  {
   "cell_type": "code",
   "execution_count": 11,
   "metadata": {},
   "outputs": [
    {
     "data": {
      "text/plain": [
       "array([[1.        , 0.03333333],\n",
       "       [0.03333333, 1.        ]])"
      ]
     },
     "execution_count": 11,
     "metadata": {},
     "output_type": "execute_result"
    }
   ],
   "source": [
    "calc_jacc_sims(recipes_mod.cat_clean.loc[[0,4]], tokenizer = lambda x:x, lowercase=False)"
   ]
  },
  {
   "cell_type": "code",
   "execution_count": 71,
   "metadata": {},
   "outputs": [
    {
     "data": {
      "text/plain": [
       "100000000"
      ]
     },
     "execution_count": 71,
     "metadata": {},
     "output_type": "execute_result"
    }
   ],
   "source": [
    "# mat = mat.toarray()\n",
    "pairwise_kernels(mat,metric = 'cosine')\n",
    "cosine_similarity(mat)\n",
    "10000**2"
   ]
  },
  {
   "cell_type": "code",
   "execution_count": 57,
   "metadata": {},
   "outputs": [
    {
     "name": "stdout",
     "output_type": "stream",
     "text": [
      "195 µs ± 71.7 µs per loop (mean ± std. dev. of 7 runs, 10000 loops each)\n"
     ]
    }
   ],
   "source": [
    "%timeit pairwise_kernels(mat,metric = 'cosine')\n",
    "# jaccard_score(mat[0], mat[1], average='samples')"
   ]
  },
  {
   "cell_type": "code",
   "execution_count": 63,
   "metadata": {},
   "outputs": [
    {
     "name": "stdout",
     "output_type": "stream",
     "text": [
      "120 µs ± 7.56 µs per loop (mean ± std. dev. of 7 runs, 10000 loops each)\n"
     ]
    }
   ],
   "source": [
    "%timeit cosine_similarity(mat)"
   ]
  },
  {
   "cell_type": "code",
   "execution_count": 90,
   "metadata": {},
   "outputs": [
    {
     "data": {
      "text/plain": [
       "0.03333333333333333"
      ]
     },
     "execution_count": 90,
     "metadata": {},
     "output_type": "execute_result"
    }
   ],
   "source": [
    "jaccard_score(mat[0],mat[1])\n",
    "# mat[0].toarray().flatten()\n"
   ]
  },
  {
   "cell_type": "code",
   "execution_count": 247,
   "metadata": {},
   "outputs": [],
   "source": [
    "# cs_new = calc_sims(recipes_mod.desc_mod_clean, token_pattern=tok_pat)\n",
    "\n",
    "# cs_new[18174,9110]"
   ]
  },
  {
   "cell_type": "code",
   "execution_count": 244,
   "metadata": {},
   "outputs": [
    {
     "data": {
      "text/plain": [
       "(['Spinach Gnocchi Gratin',\n",
       "  'Spinach Herb Sauce',\n",
       "  \"Cheat's Ricotta Gnocchi Dough\",\n",
       "  'Gratineed Gnocchi with Spinach and Ricotta',\n",
       "  'Rigatoni with Eggplant, Tomato, and Ricotta',\n",
       "  'Sauteed Spinach',\n",
       "  'Tomato, Arugula, and Ricotta Salata Salad',\n",
       "  'Rice and Tomatoes',\n",
       "  'Pasta with Ricotta and Fresh Herbs',\n",
       "  'Spinach Risotto',\n",
       "  'Herb Gnocchi',\n",
       "  'Sauteed Spinach and Garlic',\n",
       "  'Tomato and Spinach Soup',\n",
       "  'Shiitake and Ricotta Patties',\n",
       "  'Gnocchi with Mushrooms and Butternut Squash',\n",
       "  'Tomato and Herb Salad',\n",
       "  'Cauliflower and Spinach Vinaigrette',\n",
       "  'Pasta with Roasted Eggplant, Ricotta, and Basil',\n",
       "  'Spinach and Roasted Red Pepper Salad',\n",
       "  'Mexican-Style Tomato Sauce'],\n",
       " 9110     0.555805\n",
       " 4995     0.531862\n",
       " 17555    0.522014\n",
       " 16731    0.498280\n",
       " 8647     0.482718\n",
       " 476      0.474219\n",
       " 572      0.464995\n",
       " 14472    0.451556\n",
       " 16933    0.451152\n",
       " 6837     0.448804\n",
       " 6495     0.435978\n",
       " 9624     0.425775\n",
       " 8428     0.408936\n",
       " 14602    0.402747\n",
       " 4131     0.402331\n",
       " 427      0.399661\n",
       " 4647     0.398614\n",
       " 11243    0.397193\n",
       " 14163    0.395109\n",
       " 8520     0.388928\n",
       " dtype: float64,\n",
       " Int64Index([ 9110,  4995, 17555, 16731,  8647,   476,   572, 14472, 16933,\n",
       "              6837,  6495,  9624,  8428, 14602,  4131,   427,  4647, 11243,\n",
       "             14163,  8520],\n",
       "            dtype='int64'))"
      ]
     },
     "execution_count": 244,
     "metadata": {},
     "output_type": "execute_result"
    }
   ],
   "source": [
    "recommend('Spinach Ricotta Gnocchi with Tomato Sauce', cs_new)"
   ]
  },
  {
   "cell_type": "code",
   "execution_count": null,
   "metadata": {},
   "outputs": [],
   "source": []
  },
  {
   "cell_type": "code",
   "execution_count": null,
   "metadata": {},
   "outputs": [],
   "source": []
  },
  {
   "cell_type": "code",
   "execution_count": null,
   "metadata": {},
   "outputs": [],
   "source": []
  },
  {
   "cell_type": "code",
   "execution_count": null,
   "metadata": {},
   "outputs": [],
   "source": []
  },
  {
   "cell_type": "code",
   "execution_count": null,
   "metadata": {},
   "outputs": [],
   "source": []
  },
  {
   "cell_type": "code",
   "execution_count": null,
   "metadata": {},
   "outputs": [],
   "source": []
  },
  {
   "cell_type": "code",
   "execution_count": null,
   "metadata": {},
   "outputs": [],
   "source": []
  },
  {
   "cell_type": "code",
   "execution_count": null,
   "metadata": {},
   "outputs": [],
   "source": []
  },
  {
   "cell_type": "code",
   "execution_count": null,
   "metadata": {},
   "outputs": [],
   "source": []
  },
  {
   "cell_type": "code",
   "execution_count": null,
   "metadata": {},
   "outputs": [],
   "source": []
  },
  {
   "cell_type": "code",
   "execution_count": null,
   "metadata": {},
   "outputs": [],
   "source": []
  },
  {
   "cell_type": "code",
   "execution_count": null,
   "metadata": {},
   "outputs": [],
   "source": []
  },
  {
   "cell_type": "code",
   "execution_count": null,
   "metadata": {},
   "outputs": [],
   "source": []
  },
  {
   "cell_type": "code",
   "execution_count": null,
   "metadata": {},
   "outputs": [],
   "source": []
  },
  {
   "cell_type": "code",
   "execution_count": null,
   "metadata": {},
   "outputs": [],
   "source": []
  },
  {
   "cell_type": "code",
   "execution_count": null,
   "metadata": {},
   "outputs": [],
   "source": []
  },
  {
   "cell_type": "code",
   "execution_count": null,
   "metadata": {},
   "outputs": [],
   "source": []
  },
  {
   "cell_type": "code",
   "execution_count": null,
   "metadata": {},
   "outputs": [],
   "source": []
  },
  {
   "cell_type": "code",
   "execution_count": 11,
   "metadata": {},
   "outputs": [],
   "source": [
    "# descriptions.ingredients[1]"
   ]
  },
  {
   "cell_type": "code",
   "execution_count": 15,
   "metadata": {},
   "outputs": [],
   "source": [
    "# descriptions.head()"
   ]
  },
  {
   "cell_type": "code",
   "execution_count": 6,
   "metadata": {},
   "outputs": [],
   "source": [
    "# categories = []\n",
    "# [categories.extend(cat) for cat in recipes.categories]\n",
    "# categories = pd.Series(categories)\n",
    "# categories.value_counts()"
   ]
  },
  {
   "cell_type": "code",
   "execution_count": 13,
   "metadata": {},
   "outputs": [],
   "source": [
    "tfidf = TfidfVectorizer(tokenizer=lambda x:x, preprocessor=lambda x:x)\n",
    "tfidf_mat = tfidf.fit_transform(recipes.categories)\n",
    "# print(tfidf_mat)\n",
    "# tfidf.vocabulary_"
   ]
  },
  {
   "cell_type": "code",
   "execution_count": 14,
   "metadata": {},
   "outputs": [
    {
     "data": {
      "text/plain": [
       "(18277, 721)"
      ]
     },
     "execution_count": 14,
     "metadata": {},
     "output_type": "execute_result"
    }
   ],
   "source": [
    "tfidf_mat.shape"
   ]
  },
  {
   "cell_type": "code",
   "execution_count": null,
   "metadata": {},
   "outputs": [],
   "source": []
  },
  {
   "cell_type": "code",
   "execution_count": null,
   "metadata": {},
   "outputs": [],
   "source": []
  },
  {
   "cell_type": "code",
   "execution_count": null,
   "metadata": {},
   "outputs": [],
   "source": []
  },
  {
   "cell_type": "code",
   "execution_count": null,
   "metadata": {},
   "outputs": [],
   "source": []
  },
  {
   "cell_type": "code",
   "execution_count": null,
   "metadata": {},
   "outputs": [],
   "source": []
  },
  {
   "cell_type": "code",
   "execution_count": null,
   "metadata": {},
   "outputs": [],
   "source": []
  },
  {
   "cell_type": "code",
   "execution_count": null,
   "metadata": {},
   "outputs": [],
   "source": []
  },
  {
   "cell_type": "code",
   "execution_count": null,
   "metadata": {},
   "outputs": [],
   "source": []
  },
  {
   "cell_type": "code",
   "execution_count": null,
   "metadata": {},
   "outputs": [],
   "source": []
  },
  {
   "cell_type": "code",
   "execution_count": null,
   "metadata": {},
   "outputs": [],
   "source": []
  },
  {
   "cell_type": "code",
   "execution_count": null,
   "metadata": {},
   "outputs": [],
   "source": []
  },
  {
   "cell_type": "code",
   "execution_count": null,
   "metadata": {},
   "outputs": [],
   "source": []
  },
  {
   "cell_type": "code",
   "execution_count": null,
   "metadata": {},
   "outputs": [],
   "source": []
  },
  {
   "cell_type": "code",
   "execution_count": null,
   "metadata": {},
   "outputs": [],
   "source": []
  },
  {
   "cell_type": "code",
   "execution_count": 19,
   "metadata": {},
   "outputs": [
    {
     "data": {
      "text/plain": [
       "<bound method spmatrix.get_shape of <13655x17865 sparse matrix of type '<class 'numpy.int64'>'\n",
       "\twith 225643 stored elements in Compressed Sparse Row format>>"
      ]
     },
     "execution_count": 19,
     "metadata": {},
     "output_type": "execute_result"
    }
   ],
   "source": [
    "vectorizer = CountVectorizer(stop_words='english')\n",
    "vectorizer = vectorizer.fit_transform(descriptions.desc)\n",
    "word_sums = vectorizer.sum(axis=0)\n",
    "vectorizer"
   ]
  },
  {
   "cell_type": "code",
   "execution_count": 10,
   "metadata": {},
   "outputs": [
    {
     "data": {
      "text/plain": [
       "TfidfVectorizer(analyzer='word', binary=False, decode_error='strict',\n",
       "        dtype=<class 'numpy.int64'>, encoding='utf-8', input='content',\n",
       "        lowercase=True, max_df=1.0, max_features=None, min_df=1,\n",
       "        ngram_range=(1, 1), norm='l2', preprocessor=None, smooth_idf=True,\n",
       "        stop_words=None, strip_accents=None, sublinear_tf=False,\n",
       "        token_pattern='(?u)\\\\b\\\\w\\\\w+\\\\b', tokenizer=None, use_idf=True,\n",
       "        vocabulary=None)"
      ]
     },
     "execution_count": 10,
     "metadata": {},
     "output_type": "execute_result"
    }
   ],
   "source": [
    "tf_vec = TfidfVectorizer(stop_words='english')\n",
    "tf_vec = tf_vec.fit_transform(descriptions.desc)\n"
   ]
  },
  {
   "cell_type": "code",
   "execution_count": null,
   "metadata": {},
   "outputs": [],
   "source": []
  },
  {
   "cell_type": "code",
   "execution_count": null,
   "metadata": {},
   "outputs": [],
   "source": []
  },
  {
   "cell_type": "code",
   "execution_count": null,
   "metadata": {},
   "outputs": [],
   "source": []
  },
  {
   "cell_type": "code",
   "execution_count": null,
   "metadata": {},
   "outputs": [],
   "source": []
  },
  {
   "cell_type": "code",
   "execution_count": null,
   "metadata": {},
   "outputs": [],
   "source": []
  },
  {
   "cell_type": "code",
   "execution_count": null,
   "metadata": {},
   "outputs": [],
   "source": []
  }
 ],
 "metadata": {
  "kernelspec": {
   "display_name": "Python 3",
   "language": "python",
   "name": "python3"
  },
  "language_info": {
   "codemirror_mode": {
    "name": "ipython",
    "version": 3
   },
   "file_extension": ".py",
   "mimetype": "text/x-python",
   "name": "python",
   "nbconvert_exporter": "python",
   "pygments_lexer": "ipython3",
   "version": "3.6.8"
  }
 },
 "nbformat": 4,
 "nbformat_minor": 2
}
