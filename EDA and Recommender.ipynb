{
 "cells": [
  {
   "cell_type": "code",
   "execution_count": 3,
   "metadata": {},
   "outputs": [],
   "source": [
    "import pandas as pd\n",
    "import matplotlib.pyplot as plt\n",
    "import numpy as np\n",
    "import pickle\n",
    "import json\n",
    "import scipy.stats as stats\n",
    "import nltk\n",
    "import re\n",
    "\n",
    "from sklearn.feature_extraction.text import TfidfVectorizer\n",
    "from sklearn.feature_extraction.text import CountVectorizer\n",
    "\n",
    "plt.style.use('ggplot')\n",
    "\n",
    "%matplotlib inline\n",
    "plt.rc('figure', figsize=(10,8))\n",
    "plt.rc('patch', force_edgecolor=True, ec='black', lw=1.2)\n",
    "# plt.rcdefaults()"
   ]
  },
  {
   "cell_type": "code",
   "execution_count": null,
   "metadata": {},
   "outputs": [],
   "source": []
  },
  {
   "cell_type": "markdown",
   "metadata": {},
   "source": [
    "What kind of recipes, in terms of nutritions, are represented in the dataset? Overall picture of the data."
   ]
  },
  {
   "cell_type": "markdown",
   "metadata": {},
   "source": [
    "Explore trends/pattern, relationships between nutritional data. E.g. Calories relationship to fat, carb, protein, etc....\n",
    "Official figures: 4 calories/gram of carb, 4 per gram/protein, 9 calories/gram of fat"
   ]
  },
  {
   "cell_type": "markdown",
   "metadata": {},
   "source": [
    "Looking at the baseline 2000 calories diet, what do the data reveal about the types of recipes scraped from Epicurious in terms of nutritional values? In other words, how do the different nutritions compare in content? Fat, carb, protein in relation to the recommended for a 2000 calories diet. "
   ]
  },
  {
   "cell_type": "markdown",
   "metadata": {},
   "source": [
    "What types of recipes, in terms of major ingredients, tend to be more relatively \"healthy\" based on caloric and macro nutrient values?"
   ]
  },
  {
   "cell_type": "markdown",
   "metadata": {},
   "source": [
    "Various statistics: Ingredient counts, categories/tags counts, directions and description word counts. Ratings vs. main ingredients. Nutritions vs. main ingredients."
   ]
  },
  {
   "cell_type": "markdown",
   "metadata": {},
   "source": [
    "Correlation between various counts. e.g. length of description/direction against ingredient counts."
   ]
  },
  {
   "cell_type": "markdown",
   "metadata": {},
   "source": [
    "Compare different notable categories: vegetarian, vegan, meat"
   ]
  },
  {
   "cell_type": "markdown",
   "metadata": {},
   "source": [
    "Quick & easy category and description of recipes: 45 minutes or less. **Found identical descriptions from examining most frequently used words**"
   ]
  },
  {
   "cell_type": "markdown",
   "metadata": {},
   "source": [
    "Recipes with and without description?"
   ]
  },
  {
   "cell_type": "code",
   "execution_count": 2,
   "metadata": {},
   "outputs": [
    {
     "name": "stdout",
     "output_type": "stream",
     "text": [
      "<class 'pandas.core.frame.DataFrame'>\n",
      "RangeIndex: 18277 entries, 0 to 18276\n",
      "Data columns (total 12 columns):\n",
      "calories       18277 non-null int64\n",
      "carb           18277 non-null int64\n",
      "categories     18277 non-null object\n",
      "date           18277 non-null datetime64[ns]\n",
      "desc           13655 non-null object\n",
      "directions     18277 non-null object\n",
      "fat            18277 non-null int64\n",
      "ingredients    18277 non-null object\n",
      "protein        18277 non-null int64\n",
      "rating         18277 non-null float64\n",
      "sodium         18277 non-null int64\n",
      "title          18277 non-null object\n",
      "dtypes: datetime64[ns](1), float64(1), int64(5), object(5)\n",
      "memory usage: 1.7+ MB\n"
     ]
    }
   ],
   "source": [
    "recipes = pd.read_pickle('recipes.pkl')\n",
    "recipes.info()"
   ]
  },
  {
   "cell_type": "code",
   "execution_count": 4,
   "metadata": {},
   "outputs": [
    {
     "data": {
      "image/png": "[encoded data removed]",
      "text/plain": [
       "<Figure size 720x576 with 1 Axes>"
      ]
     },
     "metadata": {},
     "output_type": "display_data"
    }
   ],
   "source": [
    "_ = recipes.hist('calories', bins=50, color = 'b')"
   ]
  },
  {
   "cell_type": "code",
   "execution_count": 6,
   "metadata": {},
   "outputs": [
    {
     "data": {
      "text/html": [
       "<div>\n",
       "<style scoped>\n",
       "    .dataframe tbody tr th:only-of-type {\n",
       "        vertical-align: middle;\n",
       "    }\n",
       "\n",
       "    .dataframe tbody tr th {\n",
       "        vertical-align: top;\n",
       "    }\n",
       "\n",
       "    .dataframe thead th {\n",
       "        text-align: right;\n",
       "    }\n",
       "</style>\n",
       "<table border=\"1\" class=\"dataframe\">\n",
       "  <thead>\n",
       "    <tr style=\"text-align: right;\">\n",
       "      <th></th>\n",
       "      <th>calories</th>\n",
       "      <th>carb</th>\n",
       "      <th>categories</th>\n",
       "      <th>date</th>\n",
       "      <th>desc</th>\n",
       "      <th>directions</th>\n",
       "      <th>fat</th>\n",
       "      <th>ingredients</th>\n",
       "      <th>protein</th>\n",
       "      <th>rating</th>\n",
       "      <th>sodium</th>\n",
       "      <th>title</th>\n",
       "    </tr>\n",
       "  </thead>\n",
       "  <tbody>\n",
       "    <tr>\n",
       "      <th>0</th>\n",
       "      <td>426</td>\n",
       "      <td>77</td>\n",
       "      <td>[Sandwich, Bean, Fruit, Tomato, turkey, Vegeta...</td>\n",
       "      <td>2006-09-01 04:00:00</td>\n",
       "      <td>None</td>\n",
       "      <td>[1. Place the stock, lentils, celery, carrot, ...</td>\n",
       "      <td>7</td>\n",
       "      <td>[4 cups low-sodium vegetable or chicken stock,...</td>\n",
       "      <td>30</td>\n",
       "      <td>2.500</td>\n",
       "      <td>559</td>\n",
       "      <td>Lentil, Apple, and Turkey Wrap</td>\n",
       "    </tr>\n",
       "    <tr>\n",
       "      <th>1</th>\n",
       "      <td>403</td>\n",
       "      <td>34</td>\n",
       "      <td>[Food Processor, Onion, Pork, Bake, Bastille D...</td>\n",
       "      <td>2004-08-20 04:00:00</td>\n",
       "      <td>This uses the same ingredients found in boudin...</td>\n",
       "      <td>[Combine first 9 ingredients in heavy medium s...</td>\n",
       "      <td>23</td>\n",
       "      <td>[1 1/2 cups whipping cream, 2 medium onions, c...</td>\n",
       "      <td>18</td>\n",
       "      <td>4.375</td>\n",
       "      <td>1439</td>\n",
       "      <td>Boudin Blanc Terrine with Red Onion Confit</td>\n",
       "    </tr>\n",
       "    <tr>\n",
       "      <th>2</th>\n",
       "      <td>357</td>\n",
       "      <td>92</td>\n",
       "      <td>[Candy, Citrus, Quick &amp; Easy, Low Sodium, Grap...</td>\n",
       "      <td>2004-08-20 12:48:48</td>\n",
       "      <td>None</td>\n",
       "      <td>[Quarter the grapefruits lengthwise and remove...</td>\n",
       "      <td>0</td>\n",
       "      <td>[3 large grapefruits, 13 cups cold water, 4 cu...</td>\n",
       "      <td>1</td>\n",
       "      <td>5.000</td>\n",
       "      <td>17</td>\n",
       "      <td>Candied Grapefruit Zest</td>\n",
       "    </tr>\n",
       "    <tr>\n",
       "      <th>3</th>\n",
       "      <td>691</td>\n",
       "      <td>21</td>\n",
       "      <td>[Leafy Green, Shellfish, Marinate, Sauté, High...</td>\n",
       "      <td>2004-08-20 04:00:00</td>\n",
       "      <td>When Roy Yamaguchi invited me to cook at the 5...</td>\n",
       "      <td>[Preheat oven to 350°F., Dip each crab in milk...</td>\n",
       "      <td>41</td>\n",
       "      <td>[8 soft shell crabs, cleaned (See note), 1 cup...</td>\n",
       "      <td>57</td>\n",
       "      <td>3.750</td>\n",
       "      <td>1533</td>\n",
       "      <td>Soft-Shell Crabs with Wilted Spinach and Warm ...</td>\n",
       "    </tr>\n",
       "    <tr>\n",
       "      <th>4</th>\n",
       "      <td>181</td>\n",
       "      <td>39</td>\n",
       "      <td>[Sauce, Fruit, Ginger, Dessert, Low Sodium, Wh...</td>\n",
       "      <td>2004-08-20 04:00:00</td>\n",
       "      <td>A simple dessert sauce that is absolutely deli...</td>\n",
       "      <td>[Combine Sauternes, sugar, water and whole clo...</td>\n",
       "      <td>1</td>\n",
       "      <td>[1/2 cup plus 2 tablespoons Sauternes or Late ...</td>\n",
       "      <td>1</td>\n",
       "      <td>5.000</td>\n",
       "      <td>11</td>\n",
       "      <td>Kumquat Compote with Sauternes and Ginger</td>\n",
       "    </tr>\n",
       "  </tbody>\n",
       "</table>\n",
       "</div>"
      ],
      "text/plain": [
       "   calories  carb                                         categories  \\\n",
       "0       426    77  [Sandwich, Bean, Fruit, Tomato, turkey, Vegeta...   \n",
       "1       403    34  [Food Processor, Onion, Pork, Bake, Bastille D...   \n",
       "2       357    92  [Candy, Citrus, Quick & Easy, Low Sodium, Grap...   \n",
       "3       691    21  [Leafy Green, Shellfish, Marinate, Sauté, High...   \n",
       "4       181    39  [Sauce, Fruit, Ginger, Dessert, Low Sodium, Wh...   \n",
       "\n",
       "                 date                                               desc  \\\n",
       "0 2006-09-01 04:00:00                                               None   \n",
       "1 2004-08-20 04:00:00  This uses the same ingredients found in boudin...   \n",
       "2 2004-08-20 12:48:48                                               None   \n",
       "3 2004-08-20 04:00:00  When Roy Yamaguchi invited me to cook at the 5...   \n",
       "4 2004-08-20 04:00:00  A simple dessert sauce that is absolutely deli...   \n",
       "\n",
       "                                          directions  fat  \\\n",
       "0  [1. Place the stock, lentils, celery, carrot, ...    7   \n",
       "1  [Combine first 9 ingredients in heavy medium s...   23   \n",
       "2  [Quarter the grapefruits lengthwise and remove...    0   \n",
       "3  [Preheat oven to 350°F., Dip each crab in milk...   41   \n",
       "4  [Combine Sauternes, sugar, water and whole clo...    1   \n",
       "\n",
       "                                         ingredients  protein  rating  sodium  \\\n",
       "0  [4 cups low-sodium vegetable or chicken stock,...       30   2.500     559   \n",
       "1  [1 1/2 cups whipping cream, 2 medium onions, c...       18   4.375    1439   \n",
       "2  [3 large grapefruits, 13 cups cold water, 4 cu...        1   5.000      17   \n",
       "3  [8 soft shell crabs, cleaned (See note), 1 cup...       57   3.750    1533   \n",
       "4  [1/2 cup plus 2 tablespoons Sauternes or Late ...        1   5.000      11   \n",
       "\n",
       "                                               title  \n",
       "0                     Lentil, Apple, and Turkey Wrap  \n",
       "1         Boudin Blanc Terrine with Red Onion Confit  \n",
       "2                            Candied Grapefruit Zest  \n",
       "3  Soft-Shell Crabs with Wilted Spinach and Warm ...  \n",
       "4          Kumquat Compote with Sauternes and Ginger  "
      ]
     },
     "execution_count": 6,
     "metadata": {},
     "output_type": "execute_result"
    }
   ],
   "source": [
    "recipes.head()"
   ]
  },
  {
   "cell_type": "code",
   "execution_count": 12,
   "metadata": {},
   "outputs": [],
   "source": [
    "# 13,655 out of 18,277 recipes contain description\n",
    "descriptions = recipes.loc[~recipes.desc.isnull()]\n",
    "\n",
    "# Copying recipes to make necessary modifications: concats, cleaning, etc....\n",
    "recipes_mod = recipes.copy()\n",
    "\n",
    "# Concatenating recipe title with description\n",
    "recipes_mod.desc.fillna('', inplace=True)\n",
    "recipes_mod['desc_mod'] = recipes_mod.title + ' ' + recipes_mod.desc\n",
    "recipes_mod['desc_mod'] = recipes_mod.desc_mod.str.strip()"
   ]
  },
  {
   "cell_type": "code",
   "execution_count": 11,
   "metadata": {},
   "outputs": [],
   "source": [
    "def get_top(text_corp, top_n = 20, **kwargs_vect):\n",
    "    \n",
    "    # Get the top_n most common words (or n_grams) from a corpus\n",
    "    vect = CountVectorizer(**kwargs_vect)\n",
    "        \n",
    "    freq_mat = vect.fit_transform(text_corp)\n",
    "    counts = np.array(freq_mat.sum(axis=0)).flatten()\n",
    "    \n",
    "    freqs = [(w, counts[ind]) for w, ind in vect.vocabulary_.items()]\n",
    "    freqs.sort(key=lambda x: x[1], reverse=True)\n",
    "    \n",
    "    return freqs[:top_n]\n",
    "\n",
    "    \n",
    "def get_counts_dist(text_corp, bins = 10, plot = False, **kwargs_vect):\n",
    "    \n",
    "    vect = CountVectorizer(**kwargs_vect)\n",
    "        \n",
    "    count_mat = vect.fit_transform(text_corp)\n",
    "    wc = np.array(count_mat.sum(axis=1)).flatten()\n",
    "    \n",
    "    if plot:\n",
    "        plt.hist(wc, bins = bins)\n",
    "\n",
    "    return pd.Series(wc).describe(), wc"
   ]
  },
  {
   "cell_type": "code",
   "execution_count": null,
   "metadata": {},
   "outputs": [],
   "source": []
  },
  {
   "cell_type": "code",
   "execution_count": 7,
   "metadata": {},
   "outputs": [
    {
     "data": {
      "text/plain": [
       "(count    13655.000000\n",
       " mean        30.832589\n",
       " std         25.653103\n",
       " min          1.000000\n",
       " 25%         13.000000\n",
       " 50%         24.000000\n",
       " 75%         40.000000\n",
       " max        307.000000\n",
       " dtype: float64, array([19, 89, 17, ..., 27, 44, 81], dtype=int64))"
      ]
     },
     "execution_count": 7,
     "metadata": {},
     "output_type": "execute_result"
    },
    {
     "data": {
      "image/png": "[encoded data removed]",
      "text/plain": [
       "<Figure size 720x576 with 1 Axes>"
      ]
     },
     "metadata": {},
     "output_type": "display_data"
    }
   ],
   "source": [
    "# Distribution of word counts in descriptions for recipes with a description. Before cleaning and concatenating.\n",
    "desc_stats = get_counts_dist(descriptions.desc, bins='auto', plot = True)\n",
    "_ = plt.title('Word Counts Distribution for Recipes Descriptions (Raw)')\n",
    "_ = plt.xlabel('Number of Words')\n",
    "_ = plt.ylabel('Number of Recipes')\n",
    "desc_stats"
   ]
  },
  {
   "cell_type": "code",
   "execution_count": 8,
   "metadata": {},
   "outputs": [
    {
     "data": {
      "text/plain": [
       "(count    18277.000000\n",
       " mean        28.223067\n",
       " std         25.998253\n",
       " min          1.000000\n",
       " 25%          8.000000\n",
       " 50%         21.000000\n",
       " 75%         39.000000\n",
       " max        308.000000\n",
       " dtype: float64, array([ 5, 26,  3, ..., 31, 53, 84], dtype=int64))"
      ]
     },
     "execution_count": 8,
     "metadata": {},
     "output_type": "execute_result"
    },
    {
     "data": {
      "image/png": "[encoded data removed]",
      "text/plain": [
       "<Figure size 720x576 with 1 Axes>"
      ]
     },
     "metadata": {},
     "output_type": "display_data"
    }
   ],
   "source": [
    "# After concatenating description and title\n",
    "desc_stats2 = get_counts_dist(recipes_mod.desc_mod, bins='auto', plot = True)\n",
    "_ = plt.title('Word Counts Distribution for Recipes Descriptions + Title (Raw)')\n",
    "_ = plt.xlabel('Number of Words')\n",
    "_ = plt.ylabel('Number of Recipes')\n",
    "desc_stats2"
   ]
  },
  {
   "cell_type": "code",
   "execution_count": null,
   "metadata": {},
   "outputs": [],
   "source": []
  },
  {
   "cell_type": "code",
   "execution_count": 98,
   "metadata": {},
   "outputs": [],
   "source": [
    "# Top most frequently used words in recipes descriptions\n",
    "\n",
    "# top_100 = get_top(recipes_mod.desc_mod, 100, (1,1))\n",
    "\n",
    "# We see some potential recipe/food specific stopwords to add to our lists\n",
    "# top_100"
   ]
  },
  {
   "cell_type": "code",
   "execution_count": 92,
   "metadata": {},
   "outputs": [
    {
     "data": {
      "text/plain": [
       "(count    18277.00000\n",
       " mean       149.72501\n",
       " std         98.82470\n",
       " min          1.00000\n",
       " 25%         83.00000\n",
       " 50%        127.00000\n",
       " 75%        192.00000\n",
       " max       1237.00000\n",
       " dtype: float64, array([145, 241, 235, ...,  71, 137, 311], dtype=int64))"
      ]
     },
     "execution_count": 92,
     "metadata": {},
     "output_type": "execute_result"
    },
    {
     "data": {
      "image/png": "[encoded data removed]",
      "text/plain": [
       "<Figure size 720x576 with 1 Axes>"
      ]
     },
     "metadata": {},
     "output_type": "display_data"
    }
   ],
   "source": [
    "# Distribution of word counts in directions for recipes. Before cleaning.\n",
    "\n",
    "def list_prep(text_list, sep= ' '):\n",
    "    return sep.join(e for e in text_list).lower()\n",
    "\n",
    "dir_stats = get_counts_dist(recipes.directions, bins='auto', plot = True, preprocessor=list_prep)\n",
    "_ = plt.title('Word Distribution for Recipes Directions (Raw)')\n",
    "_ = plt.xlabel('Number of Words')\n",
    "_ = plt.ylabel('Number of Recipes')\n",
    "dir_stats"
   ]
  },
  {
   "cell_type": "code",
   "execution_count": 15,
   "metadata": {},
   "outputs": [
    {
     "data": {
      "text/plain": [
       "(count    18277.000000\n",
       " mean        10.406084\n",
       " std          4.508740\n",
       " min          1.000000\n",
       " 25%          7.000000\n",
       " 50%         10.000000\n",
       " 75%         13.000000\n",
       " max         41.000000\n",
       " dtype: float64, array([15, 28,  4, ...,  5,  7, 16], dtype=int64))"
      ]
     },
     "execution_count": 15,
     "metadata": {},
     "output_type": "execute_result"
    },
    {
     "data": {
      "image/png": "[encoded data removed]",
      "text/plain": [
       "<Figure size 720x576 with 1 Axes>"
      ]
     },
     "metadata": {},
     "output_type": "display_data"
    }
   ],
   "source": [
    "# Distribution of number of ingredients\n",
    "def dummy(text): # Dummy funct. to use our lists with CountVectorizer\n",
    "    return text\n",
    "\n",
    "ingr_stats = get_counts_dist(recipes.ingredients, bins=15, plot=True,  preprocessor=dummy, tokenizer=dummy)\n",
    "_ = plt.title('Number of Ingredients')\n",
    "_ = plt.xlabel('Ingredients Count')\n",
    "_ = plt.ylabel('Number of Recipes')\n",
    "ingr_stats"
   ]
  },
  {
   "cell_type": "code",
   "execution_count": 16,
   "metadata": {},
   "outputs": [
    {
     "data": {
      "image/png": "[encoded data removed]",
      "text/plain": [
       "<Figure size 720x576 with 1 Axes>"
      ]
     },
     "metadata": {},
     "output_type": "display_data"
    }
   ],
   "source": [
    "# Distribution of number of categories\n",
    "cat_stats = get_counts_dist(recipes.categories, bins=10, plot=True, preprocessor=dummy, tokenizer=dummy)"
   ]
  },
  {
   "cell_type": "code",
   "execution_count": null,
   "metadata": {},
   "outputs": [],
   "source": []
  },
  {
   "cell_type": "code",
   "execution_count": 16,
   "metadata": {},
   "outputs": [],
   "source": [
    "# Counting frequency of categories.\n",
    "\n",
    "# all_cats = []\n",
    "# [all_cats.extend(cat) for cat in recipes.categories]\n",
    "# categories = pd.Series(all_cats)\n",
    "# cat_freq = categories.value_counts()\n",
    "\n",
    "# _ = plt.hist(categories.value_counts(),bins=30)\n",
    "# cat_freq.describe()"
   ]
  },
  {
   "cell_type": "code",
   "execution_count": 15,
   "metadata": {},
   "outputs": [],
   "source": [
    "# cat_freq\n",
    "# recipes.categories.loc[6338]"
   ]
  },
  {
   "cell_type": "code",
   "execution_count": null,
   "metadata": {},
   "outputs": [],
   "source": []
  },
  {
   "cell_type": "code",
   "execution_count": 23,
   "metadata": {},
   "outputs": [],
   "source": [
    "# Recipes without a description\n",
    "\n",
    "# rnd = recipes[recipes.desc.isnull()]"
   ]
  },
  {
   "cell_type": "code",
   "execution_count": 19,
   "metadata": {},
   "outputs": [],
   "source": [
    "# get_top(descriptions.categories, preprocessor=dummy,tokenizer=dummy)"
   ]
  },
  {
   "cell_type": "code",
   "execution_count": 20,
   "metadata": {},
   "outputs": [],
   "source": [
    "# get_top(rnd.categories, prep=dummy,tok=dummy)"
   ]
  },
  {
   "cell_type": "code",
   "execution_count": 21,
   "metadata": {},
   "outputs": [
    {
     "data": {
      "text/plain": [
       "(count    13655.000000\n",
       " mean         5.207909\n",
       " std          2.198991\n",
       " min          1.000000\n",
       " 25%          3.000000\n",
       " 50%          5.000000\n",
       " 75%          7.000000\n",
       " max         19.000000\n",
       " dtype: float64, array([ 7, 11,  6, ...,  4,  9,  3], dtype=int64))"
      ]
     },
     "execution_count": 21,
     "metadata": {},
     "output_type": "execute_result"
    }
   ],
   "source": [
    "get_counts_dist(descriptions.title)"
   ]
  },
  {
   "cell_type": "code",
   "execution_count": 24,
   "metadata": {},
   "outputs": [
    {
     "data": {
      "text/plain": [
       "(count    4622.000000\n",
       " mean        5.127650\n",
       " std         2.237794\n",
       " min         1.000000\n",
       " 25%         3.000000\n",
       " 50%         5.000000\n",
       " 75%         7.000000\n",
       " max        16.000000\n",
       " dtype: float64, array([5, 3, 7, ..., 2, 8, 2], dtype=int64))"
      ]
     },
     "execution_count": 24,
     "metadata": {},
     "output_type": "execute_result"
    }
   ],
   "source": [
    "# rnd.describe()\n",
    "get_counts_dist(rnd.title)"
   ]
  },
  {
   "cell_type": "code",
   "execution_count": 69,
   "metadata": {},
   "outputs": [
    {
     "data": {
      "text/plain": [
       "(count    18277.000000\n",
       " mean         5.187613\n",
       " std          2.209082\n",
       " min          1.000000\n",
       " 25%          3.000000\n",
       " 50%          5.000000\n",
       " 75%          7.000000\n",
       " max         19.000000\n",
       " dtype: float64, array([5, 7, 3, ..., 4, 9, 3], dtype=int64))"
      ]
     },
     "execution_count": 69,
     "metadata": {},
     "output_type": "execute_result"
    }
   ],
   "source": [
    "counts_dist(recipes.title)"
   ]
  },
  {
   "cell_type": "code",
   "execution_count": 17,
   "metadata": {},
   "outputs": [
    {
     "data": {
      "text/html": [
       "<div>\n",
       "<style scoped>\n",
       "    .dataframe tbody tr th:only-of-type {\n",
       "        vertical-align: middle;\n",
       "    }\n",
       "\n",
       "    .dataframe tbody tr th {\n",
       "        vertical-align: top;\n",
       "    }\n",
       "\n",
       "    .dataframe thead th {\n",
       "        text-align: right;\n",
       "    }\n",
       "</style>\n",
       "<table border=\"1\" class=\"dataframe\">\n",
       "  <thead>\n",
       "    <tr style=\"text-align: right;\">\n",
       "      <th></th>\n",
       "      <th>calories</th>\n",
       "      <th>carb</th>\n",
       "      <th>categories</th>\n",
       "      <th>date</th>\n",
       "      <th>desc</th>\n",
       "      <th>directions</th>\n",
       "      <th>fat</th>\n",
       "      <th>ingredients</th>\n",
       "      <th>protein</th>\n",
       "      <th>rating</th>\n",
       "      <th>sodium</th>\n",
       "      <th>title</th>\n",
       "      <th>desc_mod</th>\n",
       "    </tr>\n",
       "  </thead>\n",
       "  <tbody>\n",
       "    <tr>\n",
       "      <th>0</th>\n",
       "      <td>426</td>\n",
       "      <td>77</td>\n",
       "      <td>[Sandwich, Bean, Fruit, Tomato, turkey, Vegeta...</td>\n",
       "      <td>2006-09-01 04:00:00</td>\n",
       "      <td></td>\n",
       "      <td>[1. Place the stock, lentils, celery, carrot, ...</td>\n",
       "      <td>7</td>\n",
       "      <td>[4 cups low-sodium vegetable or chicken stock,...</td>\n",
       "      <td>30</td>\n",
       "      <td>2.500</td>\n",
       "      <td>559</td>\n",
       "      <td>Lentil, Apple, and Turkey Wrap</td>\n",
       "      <td>Lentil, Apple, and Turkey Wrap</td>\n",
       "    </tr>\n",
       "    <tr>\n",
       "      <th>1</th>\n",
       "      <td>403</td>\n",
       "      <td>34</td>\n",
       "      <td>[Food Processor, Onion, Pork, Bake, Bastille D...</td>\n",
       "      <td>2004-08-20 04:00:00</td>\n",
       "      <td>This uses the same ingredients found in boudin...</td>\n",
       "      <td>[Combine first 9 ingredients in heavy medium s...</td>\n",
       "      <td>23</td>\n",
       "      <td>[1 1/2 cups whipping cream, 2 medium onions, c...</td>\n",
       "      <td>18</td>\n",
       "      <td>4.375</td>\n",
       "      <td>1439</td>\n",
       "      <td>Boudin Blanc Terrine with Red Onion Confit</td>\n",
       "      <td>Boudin Blanc Terrine with Red Onion Confit Thi...</td>\n",
       "    </tr>\n",
       "    <tr>\n",
       "      <th>2</th>\n",
       "      <td>357</td>\n",
       "      <td>92</td>\n",
       "      <td>[Candy, Citrus, Quick &amp; Easy, Low Sodium, Grap...</td>\n",
       "      <td>2004-08-20 12:48:48</td>\n",
       "      <td></td>\n",
       "      <td>[Quarter the grapefruits lengthwise and remove...</td>\n",
       "      <td>0</td>\n",
       "      <td>[3 large grapefruits, 13 cups cold water, 4 cu...</td>\n",
       "      <td>1</td>\n",
       "      <td>5.000</td>\n",
       "      <td>17</td>\n",
       "      <td>Candied Grapefruit Zest</td>\n",
       "      <td>Candied Grapefruit Zest</td>\n",
       "    </tr>\n",
       "    <tr>\n",
       "      <th>3</th>\n",
       "      <td>691</td>\n",
       "      <td>21</td>\n",
       "      <td>[Leafy Green, Shellfish, Marinate, Sauté, High...</td>\n",
       "      <td>2004-08-20 04:00:00</td>\n",
       "      <td>When Roy Yamaguchi invited me to cook at the 5...</td>\n",
       "      <td>[Preheat oven to 350°F., Dip each crab in milk...</td>\n",
       "      <td>41</td>\n",
       "      <td>[8 soft shell crabs, cleaned (See note), 1 cup...</td>\n",
       "      <td>57</td>\n",
       "      <td>3.750</td>\n",
       "      <td>1533</td>\n",
       "      <td>Soft-Shell Crabs with Wilted Spinach and Warm ...</td>\n",
       "      <td>Soft-Shell Crabs with Wilted Spinach and Warm ...</td>\n",
       "    </tr>\n",
       "    <tr>\n",
       "      <th>4</th>\n",
       "      <td>181</td>\n",
       "      <td>39</td>\n",
       "      <td>[Sauce, Fruit, Ginger, Dessert, Low Sodium, Wh...</td>\n",
       "      <td>2004-08-20 04:00:00</td>\n",
       "      <td>A simple dessert sauce that is absolutely deli...</td>\n",
       "      <td>[Combine Sauternes, sugar, water and whole clo...</td>\n",
       "      <td>1</td>\n",
       "      <td>[1/2 cup plus 2 tablespoons Sauternes or Late ...</td>\n",
       "      <td>1</td>\n",
       "      <td>5.000</td>\n",
       "      <td>11</td>\n",
       "      <td>Kumquat Compote with Sauternes and Ginger</td>\n",
       "      <td>Kumquat Compote with Sauternes and Ginger A si...</td>\n",
       "    </tr>\n",
       "  </tbody>\n",
       "</table>\n",
       "</div>"
      ],
      "text/plain": [
       "   calories  carb                                         categories  \\\n",
       "0       426    77  [Sandwich, Bean, Fruit, Tomato, turkey, Vegeta...   \n",
       "1       403    34  [Food Processor, Onion, Pork, Bake, Bastille D...   \n",
       "2       357    92  [Candy, Citrus, Quick & Easy, Low Sodium, Grap...   \n",
       "3       691    21  [Leafy Green, Shellfish, Marinate, Sauté, High...   \n",
       "4       181    39  [Sauce, Fruit, Ginger, Dessert, Low Sodium, Wh...   \n",
       "\n",
       "                 date                                               desc  \\\n",
       "0 2006-09-01 04:00:00                                                      \n",
       "1 2004-08-20 04:00:00  This uses the same ingredients found in boudin...   \n",
       "2 2004-08-20 12:48:48                                                      \n",
       "3 2004-08-20 04:00:00  When Roy Yamaguchi invited me to cook at the 5...   \n",
       "4 2004-08-20 04:00:00  A simple dessert sauce that is absolutely deli...   \n",
       "\n",
       "                                          directions  fat  \\\n",
       "0  [1. Place the stock, lentils, celery, carrot, ...    7   \n",
       "1  [Combine first 9 ingredients in heavy medium s...   23   \n",
       "2  [Quarter the grapefruits lengthwise and remove...    0   \n",
       "3  [Preheat oven to 350°F., Dip each crab in milk...   41   \n",
       "4  [Combine Sauternes, sugar, water and whole clo...    1   \n",
       "\n",
       "                                         ingredients  protein  rating  sodium  \\\n",
       "0  [4 cups low-sodium vegetable or chicken stock,...       30   2.500     559   \n",
       "1  [1 1/2 cups whipping cream, 2 medium onions, c...       18   4.375    1439   \n",
       "2  [3 large grapefruits, 13 cups cold water, 4 cu...        1   5.000      17   \n",
       "3  [8 soft shell crabs, cleaned (See note), 1 cup...       57   3.750    1533   \n",
       "4  [1/2 cup plus 2 tablespoons Sauternes or Late ...        1   5.000      11   \n",
       "\n",
       "                                               title  \\\n",
       "0                     Lentil, Apple, and Turkey Wrap   \n",
       "1         Boudin Blanc Terrine with Red Onion Confit   \n",
       "2                            Candied Grapefruit Zest   \n",
       "3  Soft-Shell Crabs with Wilted Spinach and Warm ...   \n",
       "4          Kumquat Compote with Sauternes and Ginger   \n",
       "\n",
       "                                            desc_mod  \n",
       "0                     Lentil, Apple, and Turkey Wrap  \n",
       "1  Boudin Blanc Terrine with Red Onion Confit Thi...  \n",
       "2                            Candied Grapefruit Zest  \n",
       "3  Soft-Shell Crabs with Wilted Spinach and Warm ...  \n",
       "4  Kumquat Compote with Sauternes and Ginger A si...  "
      ]
     },
     "execution_count": 17,
     "metadata": {},
     "output_type": "execute_result"
    }
   ],
   "source": [
    "recipes_mod.head()"
   ]
  },
  {
   "cell_type": "code",
   "execution_count": 357,
   "metadata": {},
   "outputs": [],
   "source": [
    "# Looking at common occurrences of numeric values found in descriptions"
   ]
  },
  {
   "cell_type": "code",
   "execution_count": 26,
   "metadata": {},
   "outputs": [],
   "source": [
    "# num_pat = re.compile(r'(?<!^)(?:\\b\\d+.*?\\s[^\\d\\W]+\\b)')"
   ]
  },
  {
   "cell_type": "code",
   "execution_count": 1035,
   "metadata": {},
   "outputs": [],
   "source": [
    "# get_top(recipes_mod.directions, 50, token_pattern=num_pat, preprocessor=list_prep)"
   ]
  },
  {
   "cell_type": "code",
   "execution_count": 1034,
   "metadata": {},
   "outputs": [],
   "source": [
    "# get_top(recipes_mod.desc_mod, 50, token_pattern=num_pat)"
   ]
  },
  {
   "cell_type": "code",
   "execution_count": null,
   "metadata": {},
   "outputs": [],
   "source": []
  },
  {
   "cell_type": "code",
   "execution_count": 18,
   "metadata": {},
   "outputs": [],
   "source": [
    "#Stop words, adding recipes specific words to sklearn and nltk's builtin lists\n",
    "from sklearn.feature_extraction import stop_words\n",
    "\n",
    "sw = set(stop_words.ENGLISH_STOP_WORDS)\n",
    "sw.update(nltk.corpus.stopwords.words('english'))\n",
    "\n",
    "# Some Recipe/Food specific stopwords\n",
    "rf_sw = ['ingredient', 'food', 'recipe', 'step', 'direction', 'flavor', 'make', 'meal', 'epicurious']\n",
    "sw.update(rf_sw)\n",
    "sw.remove('whole')"
   ]
  },
  {
   "cell_type": "code",
   "execution_count": 19,
   "metadata": {},
   "outputs": [],
   "source": [
    "from nltk.stem import WordNetLemmatizer\n",
    "from unidecode import unidecode"
   ]
  },
  {
   "cell_type": "code",
   "execution_count": 56,
   "metadata": {},
   "outputs": [
    {
     "data": {
      "text/plain": [
       "'* Apricot Almond Shortbread* Shells** 4* {This} [recipe] was (created) to prepare <epi:recipeLink =\"14264\">Apricot Almond Shortbreads</epi:recipeLink>.<P> You will need three mini-muffin pans, each 2/3/1999 twelve 1 3/4-by-1 inch cups.'"
      ]
     },
     "execution_count": 56,
     "metadata": {},
     "output_type": "execute_result"
    }
   ],
   "source": [
    "t = '* Apricot Almond Shortbread* Shells** 4* {This} [recipe] was (created) to prepare <epi:recipeLink =\"14264\">Apricot Almond Shortbreads</epi:recipeLink>.<P> You will need three mini-muffin pans, each 2/3/1999 twelve 1 3/4-by-1 inch cups.'\n",
    "re.sub('<.*?>|[\\[\\](){}]', '', t)\n",
    "re.sub(re.compile(r'<.*?>|[*\\[\\](){}]'), '', t)"
   ]
  },
  {
   "cell_type": "code",
   "execution_count": 108,
   "metadata": {},
   "outputs": [],
   "source": [
    "def preprocess(texts, tok_pat, tokenize=True):\n",
    "    \"\"\"\n",
    "    Preprocess/Clean text columns of recipes.\n",
    "    \n",
    "    \"\"\"\n",
    "    #Check if input is just a string then turn into list of 1 str.\n",
    "    if isinstance(texts, str):\n",
    "        texts = [texts]\n",
    "    \n",
    "    wnl = WordNetLemmatizer()\n",
    "    regex = re.compile(tok_pat)\n",
    "    cleaned = []\n",
    "    \n",
    "    for t in texts:\n",
    "        text = t.lower()\n",
    "        text = re.sub('<.*?>|[*\\[\\](){}]', '', text) # clean up stray html tags, remove brackets\n",
    "        text = ' '.join(wnl.lemmatize(unidecode(word)) for word in text.split())\n",
    "        tokens = regex.findall(text)\n",
    "\n",
    "        cleaned.append('*'.join(t for t in tokens if t not in sw and len(t) > 2))\n",
    "        \n",
    "    return cleaned"
   ]
  },
  {
   "cell_type": "code",
   "execution_count": 65,
   "metadata": {},
   "outputs": [],
   "source": [
    "# Pattern for tokenization. Match individual words or digits along with the following word\n",
    "\n",
    "tok_pat = re.compile(r'[^\\d\\W][\\w-]+|\\d+.*?(?:(?=[.;:]\\s|,\\s[^\\d\\W])|\\s[^\\d\\W]+)')"
   ]
  },
  {
   "cell_type": "code",
   "execution_count": 109,
   "metadata": {},
   "outputs": [],
   "source": [
    "# Preprocess description column and keeping as separate col.\n",
    "# recipes_mod['desc_mod_clean'] = recipes_mod.desc_mod.apply(lambda e: preprocess(e,tok_pat)[0])"
   ]
  },
  {
   "cell_type": "code",
   "execution_count": 110,
   "metadata": {},
   "outputs": [],
   "source": [
    "# Preprocess directions column, slightly modified to ignore step numbers.\n",
    "tp_dir = re.compile(r'[^\\d\\W][\\w-]+|(?<!^)\\d+.*?(?:(?=[.;:]\\s|,\\s[^\\d\\W])|\\s[^\\d\\W]+)')\n",
    "\n",
    "# recipes_mod['dir_clean'] = recipes_mod.directions.apply(preprocess, tok_pat=tp_dir)"
   ]
  },
  {
   "cell_type": "code",
   "execution_count": 111,
   "metadata": {},
   "outputs": [],
   "source": [
    "# Preprocess ingredients\n",
    "\n",
    "# recipes_mod['ingr_clean'] = recipes_mod.ingredients.apply(preprocess, tok_pat=tok_pat)"
   ]
  },
  {
   "cell_type": "code",
   "execution_count": 293,
   "metadata": {},
   "outputs": [],
   "source": [
    "# ([i for e in recipes_mod.categories for i in e if re.search('[^\\w\\s]',i)])\n",
    "# [i for i in recipes_mod.desc_mod_clean if '*' in i]"
   ]
  },
  {
   "cell_type": "code",
   "execution_count": 286,
   "metadata": {},
   "outputs": [],
   "source": [
    "# Clean categories\n",
    "recipes_mod['cat_clean'] = [[unidecode(i).lower() for i in e] for e in recipes_mod.categories]\n",
    "\n",
    "# Join categories for each recipe into one string\n",
    "cat_join = pd.Series('*'.join(i for i in e) for e in recipes_mod.cat_clean)\n",
    "# cat_join\n",
    "\n",
    "# Directions join\n",
    "dir_join = pd.Series('*'.join(i for i in e) for e in recipes_mod.dir_clean)\n",
    "\n",
    "# Ingredients join\n",
    "ingr_join = pd.Series('*'.join(i for i in e) for e in recipes_mod.ingr_clean)\n",
    "\n",
    "# Concatenating all text columns\n",
    "recipes_mod['all_text'] = recipes_mod.desc_mod_clean + '*' + cat_join + '*' + dir_join + '*' + ingr_join"
   ]
  },
  {
   "cell_type": "code",
   "execution_count": 287,
   "metadata": {},
   "outputs": [
    {
     "data": {
      "text/html": [
       "<div>\n",
       "<style scoped>\n",
       "    .dataframe tbody tr th:only-of-type {\n",
       "        vertical-align: middle;\n",
       "    }\n",
       "\n",
       "    .dataframe tbody tr th {\n",
       "        vertical-align: top;\n",
       "    }\n",
       "\n",
       "    .dataframe thead th {\n",
       "        text-align: right;\n",
       "    }\n",
       "</style>\n",
       "<table border=\"1\" class=\"dataframe\">\n",
       "  <thead>\n",
       "    <tr style=\"text-align: right;\">\n",
       "      <th></th>\n",
       "      <th>calories</th>\n",
       "      <th>carb</th>\n",
       "      <th>categories</th>\n",
       "      <th>date</th>\n",
       "      <th>desc</th>\n",
       "      <th>directions</th>\n",
       "      <th>fat</th>\n",
       "      <th>ingredients</th>\n",
       "      <th>protein</th>\n",
       "      <th>rating</th>\n",
       "      <th>sodium</th>\n",
       "      <th>title</th>\n",
       "      <th>desc_mod</th>\n",
       "      <th>desc_mod_clean</th>\n",
       "      <th>dir_clean</th>\n",
       "      <th>ingr_clean</th>\n",
       "      <th>cat_clean</th>\n",
       "      <th>all_text</th>\n",
       "    </tr>\n",
       "  </thead>\n",
       "  <tbody>\n",
       "    <tr>\n",
       "      <th>0</th>\n",
       "      <td>426</td>\n",
       "      <td>77</td>\n",
       "      <td>[Sandwich, Bean, Fruit, Tomato, turkey, Vegeta...</td>\n",
       "      <td>2006-09-01 04:00:00</td>\n",
       "      <td></td>\n",
       "      <td>[1. Place the stock, lentils, celery, carrot, ...</td>\n",
       "      <td>7</td>\n",
       "      <td>[4 cups low-sodium vegetable or chicken stock,...</td>\n",
       "      <td>30</td>\n",
       "      <td>2.500</td>\n",
       "      <td>559</td>\n",
       "      <td>Lentil, Apple, and Turkey Wrap</td>\n",
       "      <td>Lentil, Apple, and Turkey Wrap</td>\n",
       "      <td>lentil*apple*turkey*wrap</td>\n",
       "      <td>[place*stock*lentils*celery*carrot*thyme*salt*...</td>\n",
       "      <td>[4 cup*low-sodium*vegetable*chicken*stock, 1 c...</td>\n",
       "      <td>[sandwich, bean, fruit, tomato, turkey, vegeta...</td>\n",
       "      <td>lentil*apple*turkey*wrap*sandwich*bean*fruit*t...</td>\n",
       "    </tr>\n",
       "    <tr>\n",
       "      <th>1</th>\n",
       "      <td>403</td>\n",
       "      <td>34</td>\n",
       "      <td>[Food Processor, Onion, Pork, Bake, Bastille D...</td>\n",
       "      <td>2004-08-20 04:00:00</td>\n",
       "      <td>This uses the same ingredients found in boudin...</td>\n",
       "      <td>[Combine first 9 ingredients in heavy medium s...</td>\n",
       "      <td>23</td>\n",
       "      <td>[1 1/2 cups whipping cream, 2 medium onions, c...</td>\n",
       "      <td>18</td>\n",
       "      <td>4.375</td>\n",
       "      <td>1439</td>\n",
       "      <td>Boudin Blanc Terrine with Red Onion Confit</td>\n",
       "      <td>Boudin Blanc Terrine with Red Onion Confit Thi...</td>\n",
       "      <td>boudin*blanc*terrine*red*onion*confit*boudin*b...</td>\n",
       "      <td>[combine*9 ingredient*heavy*medium*saucepan*ad...</td>\n",
       "      <td>[1 1/2 cup*whipping*cream, 2 medium*onions*cho...</td>\n",
       "      <td>[food processor, onion, pork, bake, bastille d...</td>\n",
       "      <td>boudin*blanc*terrine*red*onion*confit*boudin*b...</td>\n",
       "    </tr>\n",
       "    <tr>\n",
       "      <th>2</th>\n",
       "      <td>357</td>\n",
       "      <td>92</td>\n",
       "      <td>[Candy, Citrus, Quick &amp; Easy, Low Sodium, Grap...</td>\n",
       "      <td>2004-08-20 12:48:48</td>\n",
       "      <td></td>\n",
       "      <td>[Quarter the grapefruits lengthwise and remove...</td>\n",
       "      <td>0</td>\n",
       "      <td>[3 large grapefruits, 13 cups cold water, 4 cu...</td>\n",
       "      <td>1</td>\n",
       "      <td>5.000</td>\n",
       "      <td>17</td>\n",
       "      <td>Candied Grapefruit Zest</td>\n",
       "      <td>Candied Grapefruit Zest</td>\n",
       "      <td>candied*grapefruit*zest</td>\n",
       "      <td>[quarter*grapefruit*lengthwise*remove*pulp*res...</td>\n",
       "      <td>[3 large*grapefruit, 13 cup*cold*water, 4 cup*...</td>\n",
       "      <td>[candy, citrus, quick &amp; easy, low sodium, grap...</td>\n",
       "      <td>candied*grapefruit*zest*candy*citrus*quick &amp; e...</td>\n",
       "    </tr>\n",
       "    <tr>\n",
       "      <th>3</th>\n",
       "      <td>691</td>\n",
       "      <td>21</td>\n",
       "      <td>[Leafy Green, Shellfish, Marinate, Sauté, High...</td>\n",
       "      <td>2004-08-20 04:00:00</td>\n",
       "      <td>When Roy Yamaguchi invited me to cook at the 5...</td>\n",
       "      <td>[Preheat oven to 350°F., Dip each crab in milk...</td>\n",
       "      <td>41</td>\n",
       "      <td>[8 soft shell crabs, cleaned (See note), 1 cup...</td>\n",
       "      <td>57</td>\n",
       "      <td>3.750</td>\n",
       "      <td>1533</td>\n",
       "      <td>Soft-Shell Crabs with Wilted Spinach and Warm ...</td>\n",
       "      <td>Soft-Shell Crabs with Wilted Spinach and Warm ...</td>\n",
       "      <td>soft-shell*crab*wilted*spinach*warm*tomato-bas...</td>\n",
       "      <td>[preheat*oven*degf, dip*crab*milk*lightly*coat...</td>\n",
       "      <td>[8 soft*shell*crabs*cleaned*note, 1 cup*milk, ...</td>\n",
       "      <td>[leafy green, shellfish, marinate, saute, high...</td>\n",
       "      <td>soft-shell*crab*wilted*spinach*warm*tomato-bas...</td>\n",
       "    </tr>\n",
       "    <tr>\n",
       "      <th>4</th>\n",
       "      <td>181</td>\n",
       "      <td>39</td>\n",
       "      <td>[Sauce, Fruit, Ginger, Dessert, Low Sodium, Wh...</td>\n",
       "      <td>2004-08-20 04:00:00</td>\n",
       "      <td>A simple dessert sauce that is absolutely deli...</td>\n",
       "      <td>[Combine Sauternes, sugar, water and whole clo...</td>\n",
       "      <td>1</td>\n",
       "      <td>[1/2 cup plus 2 tablespoons Sauternes or Late ...</td>\n",
       "      <td>1</td>\n",
       "      <td>5.000</td>\n",
       "      <td>11</td>\n",
       "      <td>Kumquat Compote with Sauternes and Ginger</td>\n",
       "      <td>Kumquat Compote with Sauternes and Ginger A si...</td>\n",
       "      <td>kumquat*compote*sauterne*ginger*simple*dessert...</td>\n",
       "      <td>[combine*sauternes*sugar*water*whole*clove*hea...</td>\n",
       "      <td>[1/2 cup*plus*2 tablespoon*sauterne*late*harve...</td>\n",
       "      <td>[sauce, fruit, ginger, dessert, low sodium, wh...</td>\n",
       "      <td>kumquat*compote*sauterne*ginger*simple*dessert...</td>\n",
       "    </tr>\n",
       "  </tbody>\n",
       "</table>\n",
       "</div>"
      ],
      "text/plain": [
       "   calories  carb                                         categories  \\\n",
       "0       426    77  [Sandwich, Bean, Fruit, Tomato, turkey, Vegeta...   \n",
       "1       403    34  [Food Processor, Onion, Pork, Bake, Bastille D...   \n",
       "2       357    92  [Candy, Citrus, Quick & Easy, Low Sodium, Grap...   \n",
       "3       691    21  [Leafy Green, Shellfish, Marinate, Sauté, High...   \n",
       "4       181    39  [Sauce, Fruit, Ginger, Dessert, Low Sodium, Wh...   \n",
       "\n",
       "                 date                                               desc  \\\n",
       "0 2006-09-01 04:00:00                                                      \n",
       "1 2004-08-20 04:00:00  This uses the same ingredients found in boudin...   \n",
       "2 2004-08-20 12:48:48                                                      \n",
       "3 2004-08-20 04:00:00  When Roy Yamaguchi invited me to cook at the 5...   \n",
       "4 2004-08-20 04:00:00  A simple dessert sauce that is absolutely deli...   \n",
       "\n",
       "                                          directions  fat  \\\n",
       "0  [1. Place the stock, lentils, celery, carrot, ...    7   \n",
       "1  [Combine first 9 ingredients in heavy medium s...   23   \n",
       "2  [Quarter the grapefruits lengthwise and remove...    0   \n",
       "3  [Preheat oven to 350°F., Dip each crab in milk...   41   \n",
       "4  [Combine Sauternes, sugar, water and whole clo...    1   \n",
       "\n",
       "                                         ingredients  protein  rating  sodium  \\\n",
       "0  [4 cups low-sodium vegetable or chicken stock,...       30   2.500     559   \n",
       "1  [1 1/2 cups whipping cream, 2 medium onions, c...       18   4.375    1439   \n",
       "2  [3 large grapefruits, 13 cups cold water, 4 cu...        1   5.000      17   \n",
       "3  [8 soft shell crabs, cleaned (See note), 1 cup...       57   3.750    1533   \n",
       "4  [1/2 cup plus 2 tablespoons Sauternes or Late ...        1   5.000      11   \n",
       "\n",
       "                                               title  \\\n",
       "0                     Lentil, Apple, and Turkey Wrap   \n",
       "1         Boudin Blanc Terrine with Red Onion Confit   \n",
       "2                            Candied Grapefruit Zest   \n",
       "3  Soft-Shell Crabs with Wilted Spinach and Warm ...   \n",
       "4          Kumquat Compote with Sauternes and Ginger   \n",
       "\n",
       "                                            desc_mod  \\\n",
       "0                     Lentil, Apple, and Turkey Wrap   \n",
       "1  Boudin Blanc Terrine with Red Onion Confit Thi...   \n",
       "2                            Candied Grapefruit Zest   \n",
       "3  Soft-Shell Crabs with Wilted Spinach and Warm ...   \n",
       "4  Kumquat Compote with Sauternes and Ginger A si...   \n",
       "\n",
       "                                      desc_mod_clean  \\\n",
       "0                           lentil*apple*turkey*wrap   \n",
       "1  boudin*blanc*terrine*red*onion*confit*boudin*b...   \n",
       "2                            candied*grapefruit*zest   \n",
       "3  soft-shell*crab*wilted*spinach*warm*tomato-bas...   \n",
       "4  kumquat*compote*sauterne*ginger*simple*dessert...   \n",
       "\n",
       "                                           dir_clean  \\\n",
       "0  [place*stock*lentils*celery*carrot*thyme*salt*...   \n",
       "1  [combine*9 ingredient*heavy*medium*saucepan*ad...   \n",
       "2  [quarter*grapefruit*lengthwise*remove*pulp*res...   \n",
       "3  [preheat*oven*degf, dip*crab*milk*lightly*coat...   \n",
       "4  [combine*sauternes*sugar*water*whole*clove*hea...   \n",
       "\n",
       "                                          ingr_clean  \\\n",
       "0  [4 cup*low-sodium*vegetable*chicken*stock, 1 c...   \n",
       "1  [1 1/2 cup*whipping*cream, 2 medium*onions*cho...   \n",
       "2  [3 large*grapefruit, 13 cup*cold*water, 4 cup*...   \n",
       "3  [8 soft*shell*crabs*cleaned*note, 1 cup*milk, ...   \n",
       "4  [1/2 cup*plus*2 tablespoon*sauterne*late*harve...   \n",
       "\n",
       "                                           cat_clean  \\\n",
       "0  [sandwich, bean, fruit, tomato, turkey, vegeta...   \n",
       "1  [food processor, onion, pork, bake, bastille d...   \n",
       "2  [candy, citrus, quick & easy, low sodium, grap...   \n",
       "3  [leafy green, shellfish, marinate, saute, high...   \n",
       "4  [sauce, fruit, ginger, dessert, low sodium, wh...   \n",
       "\n",
       "                                            all_text  \n",
       "0  lentil*apple*turkey*wrap*sandwich*bean*fruit*t...  \n",
       "1  boudin*blanc*terrine*red*onion*confit*boudin*b...  \n",
       "2  candied*grapefruit*zest*candy*citrus*quick & e...  \n",
       "3  soft-shell*crab*wilted*spinach*warm*tomato-bas...  \n",
       "4  kumquat*compote*sauterne*ginger*simple*dessert...  "
      ]
     },
     "execution_count": 287,
     "metadata": {},
     "output_type": "execute_result"
    }
   ],
   "source": [
    "recipes_mod.head()"
   ]
  },
  {
   "cell_type": "code",
   "execution_count": 294,
   "metadata": {},
   "outputs": [],
   "source": [
    "# Saving modified/processed recipes data.\n",
    "\n",
    "# recipes_mod.to_pickle('recipes_mod.pkl', protocol=pickle.HIGHEST_PROTOCOL)\n",
    "# recipes_mod.to_json('recipes_mod.json', orient='split')"
   ]
  },
  {
   "cell_type": "code",
   "execution_count": null,
   "metadata": {},
   "outputs": [],
   "source": [
    "# After cleaning\n",
    "get_counts_dist(recipes_mod.desc_mod_clean, bins='auto', plot = True)"
   ]
  },
  {
   "cell_type": "code",
   "execution_count": null,
   "metadata": {},
   "outputs": [],
   "source": []
  },
  {
   "cell_type": "code",
   "execution_count": null,
   "metadata": {},
   "outputs": [],
   "source": []
  },
  {
   "cell_type": "code",
   "execution_count": null,
   "metadata": {},
   "outputs": [],
   "source": []
  },
  {
   "cell_type": "code",
   "execution_count": null,
   "metadata": {},
   "outputs": [],
   "source": []
  },
  {
   "cell_type": "code",
   "execution_count": null,
   "metadata": {},
   "outputs": [],
   "source": []
  },
  {
   "cell_type": "code",
   "execution_count": 232,
   "metadata": {},
   "outputs": [],
   "source": []
  },
  {
   "cell_type": "code",
   "execution_count": null,
   "metadata": {},
   "outputs": [],
   "source": []
  },
  {
   "cell_type": "code",
   "execution_count": null,
   "metadata": {},
   "outputs": [],
   "source": []
  },
  {
   "cell_type": "markdown",
   "metadata": {},
   "source": [
    "**Recommending**"
   ]
  },
  {
   "cell_type": "code",
   "execution_count": 98,
   "metadata": {},
   "outputs": [],
   "source": [
    "from sklearn.metrics.pairwise import cosine_similarity"
   ]
  },
  {
   "cell_type": "code",
   "execution_count": 99,
   "metadata": {},
   "outputs": [],
   "source": [
    "def calc_sims_tfidf(text_corp, **kwargs):\n",
    "    \n",
    "    tfidf_vect = TfidfVectorizer(**kwargs)\n",
    "    tfidf_mat = tfidf_vect.fit_transform(text_corp)\n",
    "    cos_sim = cosine_similarity(tfidf_mat, tfidf_mat)\n",
    "    np.fill_diagonal(cos_sim, 0)\n",
    "    \n",
    "    return cos_sim\n",
    "\n",
    "def recommend(recipe, sim_mat, n_recs=20):\n",
    "    \n",
    "    ind = recipes_mod[recipes_mod.title == recipe].index[0]\n",
    "    \n",
    "    top_sims = pd.Series(sim_mat[ind]).sort_values(ascending=False)\n",
    "    \n",
    "    recommendations = []\n",
    "    for i in list(top_sims[:n_recs].index):\n",
    "        recommendations.append(recipes_mod.title[i])\n",
    "        \n",
    "    return recommendations, top_sims[:n_recs], top_sims[:n_recs].index"
   ]
  },
  {
   "cell_type": "code",
   "execution_count": 540,
   "metadata": {},
   "outputs": [
    {
     "data": {
      "text/plain": [
       "(['Shrimp and Rice Salad',\n",
       "  'Grilled Flank Steak and Red Onion with Orange Gremolata',\n",
       "  'Raspberry Chocolate-Chip Pancakes',\n",
       "  'Roasted Potatoes and Onions with Wilted Greens',\n",
       "  'Tomato Salad with Red Onion and Herbs',\n",
       "  'Pasta with Beans and Beef',\n",
       "  'Paprika Rice',\n",
       "  'Black Bean, Spinach, and Mushroom Burritos',\n",
       "  'Shiitake Beef Stroganov',\n",
       "  'Caesar Mayonnaise Dressing',\n",
       "  'Sauteed Fennel, Radicchio, and Pine Nuts',\n",
       "  'Apple and Blackberry Meringue Souffles',\n",
       "  'Orange Whole-Wheat French Toast',\n",
       "  'Beef and Mushroom Stew',\n",
       "  'Cold Garlic Potato Soup',\n",
       "  'Avocado Quesadillas',\n",
       "  'Sauteed Red Snapper with Creamed Fennel and Onion',\n",
       "  'Vegetable Stew with Couscous',\n",
       "  'Steamed Rice',\n",
       "  'Pasta with Sun-Dried Tomatoes, Olive, and Goat Cheese'],\n",
       " 14542    1.0\n",
       " 974      1.0\n",
       " 293      1.0\n",
       " 294      1.0\n",
       " 10973    1.0\n",
       " 3703     1.0\n",
       " 7752     1.0\n",
       " 10967    1.0\n",
       " 3707     1.0\n",
       " 16220    1.0\n",
       " 3723     1.0\n",
       " 3724     1.0\n",
       " 10935    1.0\n",
       " 10921    1.0\n",
       " 10898    1.0\n",
       " 10897    1.0\n",
       " 10892    1.0\n",
       " 10876    1.0\n",
       " 300      1.0\n",
       " 10856    1.0\n",
       " dtype: float64,\n",
       " Int64Index([14542,   974,   293,   294, 10973,  3703,  7752, 10967,  3707,\n",
       "             16220,  3723,  3724, 10935, 10921, 10898, 10897, 10892, 10876,\n",
       "               300, 10856],\n",
       "            dtype='int64'))"
      ]
     },
     "execution_count": 540,
     "metadata": {},
     "output_type": "execute_result"
    }
   ],
   "source": [
    "# cs_old_desc = calc_sims_tfidf(recipes_mod.desc)\n",
    "recommend('Spinach Ricotta Gnocchi with Tomato Sauce', cs_old_desc, 20)"
   ]
  },
  {
   "cell_type": "code",
   "execution_count": 529,
   "metadata": {},
   "outputs": [
    {
     "data": {
      "text/plain": [
       "'Can be prepared in 45 minutes or less.'"
      ]
     },
     "execution_count": 529,
     "metadata": {},
     "output_type": "execute_result"
    }
   ],
   "source": [
    "# recipes.loc[recipes.title == 'Spinach Ricotta Gnocchi with Tomato Sauce']\n",
    "recipes_mod.loc[18174].desc"
   ]
  },
  {
   "cell_type": "code",
   "execution_count": 527,
   "metadata": {},
   "outputs": [
    {
     "data": {
      "text/plain": [
       "'Can be prepared in 45 minutes or less.'"
      ]
     },
     "execution_count": 527,
     "metadata": {},
     "output_type": "execute_result"
    }
   ],
   "source": [
    "recipes_mod.loc[14542].desc"
   ]
  },
  {
   "cell_type": "code",
   "execution_count": 532,
   "metadata": {},
   "outputs": [
    {
     "data": {
      "text/plain": [
       "(['Spinach Gnocchi Gratin',\n",
       "  \"Cheat's Ricotta Gnocchi Dough\",\n",
       "  'Spinach Herb Sauce',\n",
       "  'Gratineed Gnocchi with Spinach and Ricotta',\n",
       "  'Gnocchi with Creamy Tomato-Porcini Sauce',\n",
       "  'Rigatoni with Eggplant, Tomato, and Ricotta',\n",
       "  'Tomato, Arugula, and Ricotta Salata Salad',\n",
       "  'Pasta with Ricotta and Fresh Herbs',\n",
       "  'Herb Gnocchi',\n",
       "  'Sauteed Spinach',\n",
       "  'Spinach Risotto',\n",
       "  'Rice and Tomatoes',\n",
       "  'Gnocchi with Mushrooms and Butternut Squash',\n",
       "  'Sauteed Spinach and Garlic',\n",
       "  'Tomato and Spinach Soup',\n",
       "  'Shiitake and Ricotta Patties',\n",
       "  'Mexican-Style Tomato Sauce',\n",
       "  'Pasta with Roasted Eggplant, Ricotta, and Basil',\n",
       "  'Spinach and Roasted Red Pepper Salad',\n",
       "  'Tomato and Herb Salad'],\n",
       " 9110     0.560950\n",
       " 17555    0.554582\n",
       " 4995     0.537185\n",
       " 16731    0.512969\n",
       " 8807     0.501512\n",
       " 8647     0.470861\n",
       " 572      0.453371\n",
       " 16933    0.452226\n",
       " 6495     0.443319\n",
       " 476      0.442430\n",
       " 6837     0.441193\n",
       " 14472    0.435050\n",
       " 4131     0.407583\n",
       " 9624     0.402430\n",
       " 8428     0.401605\n",
       " 14602    0.401187\n",
       " 8520     0.398231\n",
       " 11243    0.394676\n",
       " 14163    0.393417\n",
       " 427      0.391407\n",
       " dtype: float64,\n",
       " Int64Index([ 9110, 17555,  4995, 16731,  8807,  8647,   572, 16933,  6495,\n",
       "               476,  6837, 14472,  4131,  9624,  8428, 14602,  8520, 11243,\n",
       "             14163,   427],\n",
       "            dtype='int64'))"
      ]
     },
     "execution_count": 532,
     "metadata": {},
     "output_type": "execute_result"
    }
   ],
   "source": [
    "# Recommend using cleaned descriptions + title\n",
    "\n",
    "# cs_clean_desc = calc_sims_tfidf(recipes_mod.desc_mod_clean) \n",
    "\n",
    "recommend('Spinach Ricotta Gnocchi with Tomato Sauce', cs_clean_desc, 20)"
   ]
  },
  {
   "cell_type": "code",
   "execution_count": 102,
   "metadata": {},
   "outputs": [
    {
     "data": {
      "text/plain": [
       "(['Spinach Gnocchi Gratin',\n",
       "  \"Cheat's Ricotta Gnocchi Dough\",\n",
       "  'Spinach Herb Sauce',\n",
       "  'Gratineed Gnocchi with Spinach and Ricotta',\n",
       "  'Gnocchi with Creamy Tomato-Porcini Sauce',\n",
       "  'Rigatoni with Eggplant, Tomato, and Ricotta',\n",
       "  'Sauteed Spinach',\n",
       "  'Tomato, Arugula, and Ricotta Salata Salad',\n",
       "  'Pasta with Ricotta and Fresh Herbs',\n",
       "  'Rice and Tomatoes',\n",
       "  'Spinach Risotto',\n",
       "  'Herb Gnocchi',\n",
       "  'Sauteed Spinach and Garlic',\n",
       "  'Mexican-Style Tomato Sauce',\n",
       "  'Shiitake and Ricotta Patties',\n",
       "  'Tomato and Spinach Soup',\n",
       "  'Tomato and Herb Salad',\n",
       "  'Gnocchi with Mushrooms and Butternut Squash',\n",
       "  'Pasta with Roasted Eggplant, Ricotta, and Basil',\n",
       "  'Spinach and Roasted Red Pepper Salad'],\n",
       " 9110     0.555212\n",
       " 17555    0.542482\n",
       " 4995     0.538845\n",
       " 16731    0.506686\n",
       " 8807     0.501722\n",
       " 8647     0.480908\n",
       " 476      0.474316\n",
       " 572      0.463271\n",
       " 16933    0.455956\n",
       " 14472    0.451038\n",
       " 6837     0.449515\n",
       " 6495     0.437813\n",
       " 9624     0.428492\n",
       " 8520     0.412585\n",
       " 14602    0.404054\n",
       " 8428     0.403941\n",
       " 427      0.403446\n",
       " 4131     0.402957\n",
       " 11243    0.401401\n",
       " 14163    0.400148\n",
       " dtype: float64,\n",
       " Int64Index([ 9110, 17555,  4995, 16731,  8807,  8647,   476,   572, 16933,\n",
       "             14472,  6837,  6495,  9624,  8520, 14602,  8428,   427,  4131,\n",
       "             11243, 14163],\n",
       "            dtype='int64'))"
      ]
     },
     "execution_count": 102,
     "metadata": {},
     "output_type": "execute_result"
    }
   ],
   "source": [
    "# cs_clean_desc_n = calc_sims_tfidf(recipes_mod.desc_mod_clean, token_pattern=tok_pat)\n",
    "\n",
    "recommend('Spinach Ricotta Gnocchi with Tomato Sauce', cs_clean_desc_n)"
   ]
  },
  {
   "cell_type": "code",
   "execution_count": 117,
   "metadata": {},
   "outputs": [
    {
     "data": {
      "text/plain": [
       "4995    spinach herb sauce prepared 45 minute\n",
       "Name: desc_mod_clean, dtype: object"
      ]
     },
     "execution_count": 117,
     "metadata": {},
     "output_type": "execute_result"
    }
   ],
   "source": [
    "recipes_mod.loc[recipes_mod.title == 'Spinach Herb Sauce', 'desc_mod_clean']"
   ]
  },
  {
   "cell_type": "code",
   "execution_count": 121,
   "metadata": {},
   "outputs": [
    {
     "data": {
      "text/plain": [
       "'spinach ricotta gnocchi tomato sauce prepared 45 minute'"
      ]
     },
     "execution_count": 121,
     "metadata": {},
     "output_type": "execute_result"
    }
   ],
   "source": [
    "recipes_mod.desc_mod_clean[18174]\n"
   ]
  },
  {
   "cell_type": "code",
   "execution_count": 120,
   "metadata": {},
   "outputs": [
    {
     "data": {
      "text/plain": [
       "'spinach herb sauce prepared 45 minute'"
      ]
     },
     "execution_count": 120,
     "metadata": {},
     "output_type": "execute_result"
    }
   ],
   "source": [
    "recipes_mod.desc_mod_clean[4995]"
   ]
  },
  {
   "cell_type": "code",
   "execution_count": 116,
   "metadata": {},
   "outputs": [
    {
     "data": {
      "text/plain": [
       "([\"Cheat's Ricotta Gnocchi Dough\",\n",
       "  'Mexican-Style Tomato Sauce',\n",
       "  'Spaghetti with Eggplant and Tomato Sauce',\n",
       "  'Spinach Herb Sauce',\n",
       "  'Spiced Cranberry Sauce',\n",
       "  'Scallop Quenelles with Gingered Tomato Sauce',\n",
       "  'Chocolate Coconut Sauce',\n",
       "  'Gratineed Gnocchi with Spinach and Ricotta',\n",
       "  'Spicy Cilantro Sauce',\n",
       "  'Cranberry Raspberry Sauce',\n",
       "  'Coconut Caramel Sauce',\n",
       "  'Ginger Custard Sauce',\n",
       "  'Jalapeño Garlic Sauce',\n",
       "  'Apricot Caramel Sauce',\n",
       "  'Sambuca Chocolate Sauce',\n",
       "  'Chicken and Dumplings',\n",
       "  'Mustard Watercress Sauce',\n",
       "  'Rotelle with Mushroom Sauce',\n",
       "  'Spicy Tomato Sauce',\n",
       "  'Lemon-Pepper Dill Sauce'],\n",
       " 17555    0.373182\n",
       " 8520     0.342779\n",
       " 7544     0.327798\n",
       " 4995     0.307823\n",
       " 7481     0.261232\n",
       " 16706    0.256433\n",
       " 16704    0.253060\n",
       " 16731    0.250637\n",
       " 6484     0.249570\n",
       " 6365     0.245382\n",
       " 17088    0.245082\n",
       " 17487    0.243501\n",
       " 14922    0.243001\n",
       " 6559     0.242028\n",
       " 8105     0.230292\n",
       " 15892    0.227199\n",
       " 6477     0.226597\n",
       " 7059     0.224506\n",
       " 353      0.223799\n",
       " 11615    0.217303\n",
       " dtype: float64,\n",
       " Int64Index([17555,  8520,  7544,  4995,  7481, 16706, 16704, 16731,  6484,\n",
       "              6365, 17088, 17487, 14922,  6559,  8105, 15892,  6477,  7059,\n",
       "               353, 11615],\n",
       "            dtype='int64'))"
      ]
     },
     "execution_count": 116,
     "metadata": {},
     "output_type": "execute_result"
    }
   ],
   "source": [
    "# Including bigrams\n",
    "\n",
    "# cs_clean_desc_bg = calc_sims_tfidf(recipes_mod.desc_mod_clean, token_pattern=tok_pat, ngram_range=(1,2))\n",
    "recommend('Spinach Ricotta Gnocchi with Tomato Sauce', cs_clean_desc_bg)"
   ]
  },
  {
   "cell_type": "code",
   "execution_count": 164,
   "metadata": {},
   "outputs": [
    {
     "data": {
      "text/plain": [
       "re.compile(r'(?:\\b[^\\d\\W]{2,}\\b)|(?<!^)(?:\\b\\d+.*?\\s[^\\d\\W]+\\b)', re.UNICODE)"
      ]
     },
     "execution_count": 164,
     "metadata": {},
     "output_type": "execute_result"
    }
   ],
   "source": [
    "# Using ngram_range of (1,2) seems to have yielded more recipes with 'Sauce' keyword, perhaps suggesting\n",
    "# that sauces recipes are relatively uncommon (IDF upweighs 'Sauce')\n",
    "\n",
    "# recipes_mod.loc[recipes_mod.desc_mod_clean.str.lower().str.contains('\\.')]['desc_mod_clean'].index\n",
    "\n",
    "tok_pat"
   ]
  },
  {
   "cell_type": "code",
   "execution_count": 237,
   "metadata": {},
   "outputs": [],
   "source": [
    "# recipes_mod.desc_mod[568]\n"
   ]
  },
  {
   "cell_type": "code",
   "execution_count": null,
   "metadata": {},
   "outputs": [],
   "source": []
  },
  {
   "cell_type": "code",
   "execution_count": null,
   "metadata": {},
   "outputs": [],
   "source": []
  },
  {
   "cell_type": "code",
   "execution_count": 248,
   "metadata": {},
   "outputs": [],
   "source": [
    "from sklearn.metrics import jaccard_similarity_score as jss\n",
    "from sklearn.metrics.pairwise import pairwise_kernels"
   ]
  },
  {
   "cell_type": "code",
   "execution_count": 129,
   "metadata": {},
   "outputs": [
    {
     "data": {
      "text/plain": [
       "0.03333333333333333"
      ]
     },
     "execution_count": 129,
     "metadata": {},
     "output_type": "execute_result"
    }
   ],
   "source": [
    "def calc_jacc_sim(l1, l2):\n",
    "    len_intersection = len(set(l1).intersection(l2))\n",
    "    len_union = (len(l1) + len(l2)) - len_intersection\n",
    "    return len_intersection / len_union\n",
    "\n",
    "calc_jacc_sim(recipes_mod.categories[0], recipes_mod.categories[4])"
   ]
  },
  {
   "cell_type": "code",
   "execution_count": 27,
   "metadata": {},
   "outputs": [],
   "source": [
    "# from sklearn.metrics import pairwise_distances as pwd\n",
    "\n",
    "\n",
    "# vect = TfidfVectorizer(token_pattern=tok_pat)\n",
    "# mat = vect.fit_transform(recipes_mod.desc_mod_clean).todense()\n",
    "# pwd(mat,mat,metric='jaccard')"
   ]
  },
  {
   "cell_type": "code",
   "execution_count": 247,
   "metadata": {},
   "outputs": [],
   "source": [
    "# cs_new = calc_sims_tfidf(recipes_mod.desc_mod_clean, token_pattern=tok_pat)\n",
    "\n",
    "# cs_new[18174,9110]"
   ]
  },
  {
   "cell_type": "code",
   "execution_count": 244,
   "metadata": {},
   "outputs": [
    {
     "data": {
      "text/plain": [
       "(['Spinach Gnocchi Gratin',\n",
       "  'Spinach Herb Sauce',\n",
       "  \"Cheat's Ricotta Gnocchi Dough\",\n",
       "  'Gratineed Gnocchi with Spinach and Ricotta',\n",
       "  'Rigatoni with Eggplant, Tomato, and Ricotta',\n",
       "  'Sauteed Spinach',\n",
       "  'Tomato, Arugula, and Ricotta Salata Salad',\n",
       "  'Rice and Tomatoes',\n",
       "  'Pasta with Ricotta and Fresh Herbs',\n",
       "  'Spinach Risotto',\n",
       "  'Herb Gnocchi',\n",
       "  'Sauteed Spinach and Garlic',\n",
       "  'Tomato and Spinach Soup',\n",
       "  'Shiitake and Ricotta Patties',\n",
       "  'Gnocchi with Mushrooms and Butternut Squash',\n",
       "  'Tomato and Herb Salad',\n",
       "  'Cauliflower and Spinach Vinaigrette',\n",
       "  'Pasta with Roasted Eggplant, Ricotta, and Basil',\n",
       "  'Spinach and Roasted Red Pepper Salad',\n",
       "  'Mexican-Style Tomato Sauce'],\n",
       " 9110     0.555805\n",
       " 4995     0.531862\n",
       " 17555    0.522014\n",
       " 16731    0.498280\n",
       " 8647     0.482718\n",
       " 476      0.474219\n",
       " 572      0.464995\n",
       " 14472    0.451556\n",
       " 16933    0.451152\n",
       " 6837     0.448804\n",
       " 6495     0.435978\n",
       " 9624     0.425775\n",
       " 8428     0.408936\n",
       " 14602    0.402747\n",
       " 4131     0.402331\n",
       " 427      0.399661\n",
       " 4647     0.398614\n",
       " 11243    0.397193\n",
       " 14163    0.395109\n",
       " 8520     0.388928\n",
       " dtype: float64,\n",
       " Int64Index([ 9110,  4995, 17555, 16731,  8647,   476,   572, 14472, 16933,\n",
       "              6837,  6495,  9624,  8428, 14602,  4131,   427,  4647, 11243,\n",
       "             14163,  8520],\n",
       "            dtype='int64'))"
      ]
     },
     "execution_count": 244,
     "metadata": {},
     "output_type": "execute_result"
    }
   ],
   "source": [
    "recommend('Spinach Ricotta Gnocchi with Tomato Sauce', cs_new)"
   ]
  }
 ],
 "metadata": {
  "kernelspec": {
   "display_name": "Python 3",
   "language": "python",
   "name": "python3"
  },
  "language_info": {
   "codemirror_mode": {
    "name": "ipython",
    "version": 3
   },
   "file_extension": ".py",
   "mimetype": "text/x-python",
   "name": "python",
   "nbconvert_exporter": "python",
   "pygments_lexer": "ipython3",
   "version": "3.6.8"
  }
 },
 "nbformat": 4,
 "nbformat_minor": 2
}
